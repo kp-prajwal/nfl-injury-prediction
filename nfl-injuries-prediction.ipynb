{
 "cells": [
  {
   "cell_type": "markdown",
   "metadata": {
    "toc": true
   },
   "source": [
    "<h1>Table of Contents<span class=\"tocSkip\"></span></h1>\n",
    "<div class=\"toc\"><ul class=\"toc-item\"><li><span><a href=\"#Survival-Analysis-&amp;-NFL-Injuries\" data-toc-modified-id=\"Survival-Analysis-&amp;-NFL-Injuries-1\"><span class=\"toc-item-num\">1&nbsp;&nbsp;</span>Survival Analysis &amp; NFL Injuries</a></span></li><li><span><a href=\"#Synthetic-vs-Natural-Data-Split\" data-toc-modified-id=\"Synthetic-vs-Natural-Data-Split-2\"><span class=\"toc-item-num\">2&nbsp;&nbsp;</span>Synthetic vs Natural Data Split</a></span></li><li><span><a href=\"#Ideas\" data-toc-modified-id=\"Ideas-3\"><span class=\"toc-item-num\">3&nbsp;&nbsp;</span>Ideas</a></span></li><li><span><a href=\"#Data-Cleaning\" data-toc-modified-id=\"Data-Cleaning-4\"><span class=\"toc-item-num\">4&nbsp;&nbsp;</span>Data Cleaning</a></span></li><li><span><a href=\"#EDA\" data-toc-modified-id=\"EDA-5\"><span class=\"toc-item-num\">5&nbsp;&nbsp;</span>EDA</a></span><ul class=\"toc-item\"><li><span><a href=\"#BodyPart\" data-toc-modified-id=\"BodyPart-5.1\"><span class=\"toc-item-num\">5.1&nbsp;&nbsp;</span>BodyPart</a></span></li></ul></li><li><span><a href=\"#Roster-Position\" data-toc-modified-id=\"Roster-Position-6\"><span class=\"toc-item-num\">6&nbsp;&nbsp;</span>Roster Position</a></span></li><li><span><a href=\"#Hazard-Rate-Model\" data-toc-modified-id=\"Hazard-Rate-Model-7\"><span class=\"toc-item-num\">7&nbsp;&nbsp;</span>Hazard Rate Model</a></span><ul class=\"toc-item\"><li><span><a href=\"#Kaplan-Meier-Estimate\" data-toc-modified-id=\"Kaplan-Meier-Estimate-7.1\"><span class=\"toc-item-num\">7.1&nbsp;&nbsp;</span>Kaplan-Meier Estimate</a></span></li></ul></li><li><span><a href=\"#Cox-Proportional-Hazard-Model\" data-toc-modified-id=\"Cox-Proportional-Hazard-Model-8\"><span class=\"toc-item-num\">8&nbsp;&nbsp;</span>Cox Proportional Hazard Model</a></span></li><li><span><a href=\"#Logistic-Regression\" data-toc-modified-id=\"Logistic-Regression-9\"><span class=\"toc-item-num\">9&nbsp;&nbsp;</span>Logistic Regression</a></span></li><li><span><a href=\"#Random-Forest\" data-toc-modified-id=\"Random-Forest-10\"><span class=\"toc-item-num\">10&nbsp;&nbsp;</span>Random Forest</a></span></li></ul></div>"
   ]
  },
  {
   "cell_type": "markdown",
   "metadata": {},
   "source": [
    "# Survival Analysis & NFL Injuries"
   ]
  },
  {
   "cell_type": "markdown",
   "metadata": {},
   "source": [
    "The goal was to understand player injuries based on specific variables related to plays and game conditions. I tried some more traditional survival analysis models as well as some basic ML models. Enjoy!"
   ]
  },
  {
   "cell_type": "code",
   "execution_count": 4,
   "metadata": {
    "_cell_guid": "b1076dfc-b9ad-4769-8c92-a6c4dae69d19",
    "_uuid": "8f2839f25d086af736a60e9eeb907d3b93b6e0e5",
    "execution": {
     "iopub.execute_input": "2022-07-31T13:15:52.000702Z",
     "iopub.status.busy": "2022-07-31T13:15:51.999887Z",
     "iopub.status.idle": "2022-07-31T13:15:56.880570Z",
     "shell.execute_reply": "2022-07-31T13:15:56.879537Z",
     "shell.execute_reply.started": "2022-07-31T13:15:52.000627Z"
    }
   },
   "outputs": [],
   "source": [
    "import pandas as pd\n",
    "import matplotlib.pylab as plt\n",
    "import seaborn as sns\n",
    "import matplotlib.patches as patches\n",
    "import pandas_profiling\n",
    "import warnings\n",
    "import numpy as np\n",
    "warnings.filterwarnings('ignore')\n",
    "\n",
    "from time import time\n",
    "# Load the data files\n",
    "playlist = pd.read_csv('./input/PlayList.csv')\n",
    "injuries = pd.read_csv('./input/InjuryRecord.csv')\n",
    "tracking = pd.read_csv('./input/PlayerTrackData.csv', nrows=int(1e6)) # load only a fraction of the data"
   ]
  },
  {
   "cell_type": "code",
   "execution_count": 5,
   "metadata": {
    "execution": {
     "iopub.execute_input": "2022-07-31T13:15:56.883540Z",
     "iopub.status.busy": "2022-07-31T13:15:56.883082Z",
     "iopub.status.idle": "2022-07-31T13:15:56.916639Z",
     "shell.execute_reply": "2022-07-31T13:15:56.915806Z",
     "shell.execute_reply.started": "2022-07-31T13:15:56.883463Z"
    }
   },
   "outputs": [
    {
     "data": {
      "text/html": [
       "<div>\n",
       "<style scoped>\n",
       "    .dataframe tbody tr th:only-of-type {\n",
       "        vertical-align: middle;\n",
       "    }\n",
       "\n",
       "    .dataframe tbody tr th {\n",
       "        vertical-align: top;\n",
       "    }\n",
       "\n",
       "    .dataframe thead th {\n",
       "        text-align: right;\n",
       "    }\n",
       "</style>\n",
       "<table border=\"1\" class=\"dataframe\">\n",
       "  <thead>\n",
       "    <tr style=\"text-align: right;\">\n",
       "      <th></th>\n",
       "      <th>PlayerKey</th>\n",
       "      <th>GameID</th>\n",
       "      <th>PlayKey</th>\n",
       "      <th>RosterPosition</th>\n",
       "      <th>PlayerDay</th>\n",
       "      <th>PlayerGame</th>\n",
       "      <th>StadiumType</th>\n",
       "      <th>FieldType</th>\n",
       "      <th>Temperature</th>\n",
       "      <th>Weather</th>\n",
       "      <th>PlayType</th>\n",
       "      <th>PlayerGamePlay</th>\n",
       "      <th>Position</th>\n",
       "      <th>PositionGroup</th>\n",
       "    </tr>\n",
       "  </thead>\n",
       "  <tbody>\n",
       "    <tr>\n",
       "      <th>0</th>\n",
       "      <td>26624</td>\n",
       "      <td>26624-1</td>\n",
       "      <td>26624-1-1</td>\n",
       "      <td>Quarterback</td>\n",
       "      <td>1</td>\n",
       "      <td>1</td>\n",
       "      <td>Outdoor</td>\n",
       "      <td>Synthetic</td>\n",
       "      <td>63</td>\n",
       "      <td>Clear and warm</td>\n",
       "      <td>Pass</td>\n",
       "      <td>1</td>\n",
       "      <td>QB</td>\n",
       "      <td>QB</td>\n",
       "    </tr>\n",
       "    <tr>\n",
       "      <th>1</th>\n",
       "      <td>26624</td>\n",
       "      <td>26624-1</td>\n",
       "      <td>26624-1-2</td>\n",
       "      <td>Quarterback</td>\n",
       "      <td>1</td>\n",
       "      <td>1</td>\n",
       "      <td>Outdoor</td>\n",
       "      <td>Synthetic</td>\n",
       "      <td>63</td>\n",
       "      <td>Clear and warm</td>\n",
       "      <td>Pass</td>\n",
       "      <td>2</td>\n",
       "      <td>QB</td>\n",
       "      <td>QB</td>\n",
       "    </tr>\n",
       "    <tr>\n",
       "      <th>2</th>\n",
       "      <td>26624</td>\n",
       "      <td>26624-1</td>\n",
       "      <td>26624-1-3</td>\n",
       "      <td>Quarterback</td>\n",
       "      <td>1</td>\n",
       "      <td>1</td>\n",
       "      <td>Outdoor</td>\n",
       "      <td>Synthetic</td>\n",
       "      <td>63</td>\n",
       "      <td>Clear and warm</td>\n",
       "      <td>Rush</td>\n",
       "      <td>3</td>\n",
       "      <td>QB</td>\n",
       "      <td>QB</td>\n",
       "    </tr>\n",
       "    <tr>\n",
       "      <th>3</th>\n",
       "      <td>26624</td>\n",
       "      <td>26624-1</td>\n",
       "      <td>26624-1-4</td>\n",
       "      <td>Quarterback</td>\n",
       "      <td>1</td>\n",
       "      <td>1</td>\n",
       "      <td>Outdoor</td>\n",
       "      <td>Synthetic</td>\n",
       "      <td>63</td>\n",
       "      <td>Clear and warm</td>\n",
       "      <td>Rush</td>\n",
       "      <td>4</td>\n",
       "      <td>QB</td>\n",
       "      <td>QB</td>\n",
       "    </tr>\n",
       "    <tr>\n",
       "      <th>4</th>\n",
       "      <td>26624</td>\n",
       "      <td>26624-1</td>\n",
       "      <td>26624-1-5</td>\n",
       "      <td>Quarterback</td>\n",
       "      <td>1</td>\n",
       "      <td>1</td>\n",
       "      <td>Outdoor</td>\n",
       "      <td>Synthetic</td>\n",
       "      <td>63</td>\n",
       "      <td>Clear and warm</td>\n",
       "      <td>Pass</td>\n",
       "      <td>5</td>\n",
       "      <td>QB</td>\n",
       "      <td>QB</td>\n",
       "    </tr>\n",
       "  </tbody>\n",
       "</table>\n",
       "</div>"
      ],
      "text/plain": [
       "   PlayerKey   GameID    PlayKey RosterPosition  PlayerDay  PlayerGame  \\\n",
       "0      26624  26624-1  26624-1-1    Quarterback          1           1   \n",
       "1      26624  26624-1  26624-1-2    Quarterback          1           1   \n",
       "2      26624  26624-1  26624-1-3    Quarterback          1           1   \n",
       "3      26624  26624-1  26624-1-4    Quarterback          1           1   \n",
       "4      26624  26624-1  26624-1-5    Quarterback          1           1   \n",
       "\n",
       "  StadiumType  FieldType  Temperature         Weather PlayType  \\\n",
       "0     Outdoor  Synthetic           63  Clear and warm     Pass   \n",
       "1     Outdoor  Synthetic           63  Clear and warm     Pass   \n",
       "2     Outdoor  Synthetic           63  Clear and warm     Rush   \n",
       "3     Outdoor  Synthetic           63  Clear and warm     Rush   \n",
       "4     Outdoor  Synthetic           63  Clear and warm     Pass   \n",
       "\n",
       "   PlayerGamePlay Position PositionGroup  \n",
       "0               1       QB            QB  \n",
       "1               2       QB            QB  \n",
       "2               3       QB            QB  \n",
       "3               4       QB            QB  \n",
       "4               5       QB            QB  "
      ]
     },
     "execution_count": 5,
     "metadata": {},
     "output_type": "execute_result"
    }
   ],
   "source": [
    "playlist.head()"
   ]
  },
  {
   "cell_type": "code",
   "execution_count": 6,
   "metadata": {
    "execution": {
     "iopub.execute_input": "2022-07-31T13:15:56.918545Z",
     "iopub.status.busy": "2022-07-31T13:15:56.918286Z",
     "iopub.status.idle": "2022-07-31T13:15:56.931879Z",
     "shell.execute_reply": "2022-07-31T13:15:56.930959Z",
     "shell.execute_reply.started": "2022-07-31T13:15:56.918495Z"
    }
   },
   "outputs": [
    {
     "data": {
      "text/html": [
       "<div>\n",
       "<style scoped>\n",
       "    .dataframe tbody tr th:only-of-type {\n",
       "        vertical-align: middle;\n",
       "    }\n",
       "\n",
       "    .dataframe tbody tr th {\n",
       "        vertical-align: top;\n",
       "    }\n",
       "\n",
       "    .dataframe thead th {\n",
       "        text-align: right;\n",
       "    }\n",
       "</style>\n",
       "<table border=\"1\" class=\"dataframe\">\n",
       "  <thead>\n",
       "    <tr style=\"text-align: right;\">\n",
       "      <th></th>\n",
       "      <th>PlayerKey</th>\n",
       "      <th>GameID</th>\n",
       "      <th>PlayKey</th>\n",
       "      <th>BodyPart</th>\n",
       "      <th>Surface</th>\n",
       "      <th>DM_M1</th>\n",
       "      <th>DM_M7</th>\n",
       "      <th>DM_M28</th>\n",
       "      <th>DM_M42</th>\n",
       "    </tr>\n",
       "  </thead>\n",
       "  <tbody>\n",
       "    <tr>\n",
       "      <th>0</th>\n",
       "      <td>39873</td>\n",
       "      <td>39873-4</td>\n",
       "      <td>39873-4-32</td>\n",
       "      <td>Knee</td>\n",
       "      <td>Synthetic</td>\n",
       "      <td>1</td>\n",
       "      <td>1</td>\n",
       "      <td>1</td>\n",
       "      <td>1</td>\n",
       "    </tr>\n",
       "    <tr>\n",
       "      <th>1</th>\n",
       "      <td>46074</td>\n",
       "      <td>46074-7</td>\n",
       "      <td>46074-7-26</td>\n",
       "      <td>Knee</td>\n",
       "      <td>Natural</td>\n",
       "      <td>1</td>\n",
       "      <td>1</td>\n",
       "      <td>0</td>\n",
       "      <td>0</td>\n",
       "    </tr>\n",
       "    <tr>\n",
       "      <th>2</th>\n",
       "      <td>36557</td>\n",
       "      <td>36557-1</td>\n",
       "      <td>36557-1-70</td>\n",
       "      <td>Ankle</td>\n",
       "      <td>Synthetic</td>\n",
       "      <td>1</td>\n",
       "      <td>1</td>\n",
       "      <td>1</td>\n",
       "      <td>1</td>\n",
       "    </tr>\n",
       "    <tr>\n",
       "      <th>3</th>\n",
       "      <td>46646</td>\n",
       "      <td>46646-3</td>\n",
       "      <td>46646-3-30</td>\n",
       "      <td>Ankle</td>\n",
       "      <td>Natural</td>\n",
       "      <td>1</td>\n",
       "      <td>0</td>\n",
       "      <td>0</td>\n",
       "      <td>0</td>\n",
       "    </tr>\n",
       "    <tr>\n",
       "      <th>4</th>\n",
       "      <td>43532</td>\n",
       "      <td>43532-5</td>\n",
       "      <td>43532-5-69</td>\n",
       "      <td>Ankle</td>\n",
       "      <td>Synthetic</td>\n",
       "      <td>1</td>\n",
       "      <td>1</td>\n",
       "      <td>1</td>\n",
       "      <td>1</td>\n",
       "    </tr>\n",
       "  </tbody>\n",
       "</table>\n",
       "</div>"
      ],
      "text/plain": [
       "   PlayerKey   GameID     PlayKey BodyPart    Surface  DM_M1  DM_M7  DM_M28  \\\n",
       "0      39873  39873-4  39873-4-32     Knee  Synthetic      1      1       1   \n",
       "1      46074  46074-7  46074-7-26     Knee    Natural      1      1       0   \n",
       "2      36557  36557-1  36557-1-70    Ankle  Synthetic      1      1       1   \n",
       "3      46646  46646-3  46646-3-30    Ankle    Natural      1      0       0   \n",
       "4      43532  43532-5  43532-5-69    Ankle  Synthetic      1      1       1   \n",
       "\n",
       "   DM_M42  \n",
       "0       1  \n",
       "1       0  \n",
       "2       1  \n",
       "3       0  \n",
       "4       1  "
      ]
     },
     "execution_count": 6,
     "metadata": {},
     "output_type": "execute_result"
    }
   ],
   "source": [
    "injuries.head()"
   ]
  },
  {
   "cell_type": "markdown",
   "metadata": {},
   "source": [
    "# Synthetic vs Natural Data Split"
   ]
  },
  {
   "cell_type": "code",
   "execution_count": 7,
   "metadata": {
    "_cell_guid": "79c7e3d0-c299-4dcb-8224-4455121ee9b0",
    "_uuid": "d629ff2d2480ee46fbb7e2d37f6b5fab8052498a",
    "execution": {
     "iopub.execute_input": "2022-07-31T13:15:56.934000Z",
     "iopub.status.busy": "2022-07-31T13:15:56.933669Z",
     "iopub.status.idle": "2022-07-31T13:15:56.944414Z",
     "shell.execute_reply": "2022-07-31T13:15:56.943285Z",
     "shell.execute_reply.started": "2022-07-31T13:15:56.933950Z"
    }
   },
   "outputs": [],
   "source": [
    "inj_natural = injuries[injuries.Surface == 'Natural']\n",
    "inj_turf = injuries[injuries.Surface == 'Synthetic']"
   ]
  },
  {
   "cell_type": "code",
   "execution_count": 8,
   "metadata": {
    "execution": {
     "iopub.execute_input": "2022-07-31T13:15:56.947747Z",
     "iopub.status.busy": "2022-07-31T13:15:56.947420Z",
     "iopub.status.idle": "2022-07-31T13:15:56.965539Z",
     "shell.execute_reply": "2022-07-31T13:15:56.964796Z",
     "shell.execute_reply.started": "2022-07-31T13:15:56.947628Z"
    }
   },
   "outputs": [
    {
     "data": {
      "text/html": [
       "<div>\n",
       "<style scoped>\n",
       "    .dataframe tbody tr th:only-of-type {\n",
       "        vertical-align: middle;\n",
       "    }\n",
       "\n",
       "    .dataframe tbody tr th {\n",
       "        vertical-align: top;\n",
       "    }\n",
       "\n",
       "    .dataframe thead th {\n",
       "        text-align: right;\n",
       "    }\n",
       "</style>\n",
       "<table border=\"1\" class=\"dataframe\">\n",
       "  <thead>\n",
       "    <tr style=\"text-align: right;\">\n",
       "      <th></th>\n",
       "      <th>PlayerKey</th>\n",
       "      <th>GameID</th>\n",
       "      <th>PlayKey</th>\n",
       "      <th>BodyPart</th>\n",
       "      <th>Surface</th>\n",
       "      <th>DM_M1</th>\n",
       "      <th>DM_M7</th>\n",
       "      <th>DM_M28</th>\n",
       "      <th>DM_M42</th>\n",
       "    </tr>\n",
       "  </thead>\n",
       "  <tbody>\n",
       "    <tr>\n",
       "      <th>1</th>\n",
       "      <td>46074</td>\n",
       "      <td>46074-7</td>\n",
       "      <td>46074-7-26</td>\n",
       "      <td>Knee</td>\n",
       "      <td>Natural</td>\n",
       "      <td>1</td>\n",
       "      <td>1</td>\n",
       "      <td>0</td>\n",
       "      <td>0</td>\n",
       "    </tr>\n",
       "    <tr>\n",
       "      <th>3</th>\n",
       "      <td>46646</td>\n",
       "      <td>46646-3</td>\n",
       "      <td>46646-3-30</td>\n",
       "      <td>Ankle</td>\n",
       "      <td>Natural</td>\n",
       "      <td>1</td>\n",
       "      <td>0</td>\n",
       "      <td>0</td>\n",
       "      <td>0</td>\n",
       "    </tr>\n",
       "    <tr>\n",
       "      <th>5</th>\n",
       "      <td>41145</td>\n",
       "      <td>41145-2</td>\n",
       "      <td>41145-2-60</td>\n",
       "      <td>Knee</td>\n",
       "      <td>Natural</td>\n",
       "      <td>1</td>\n",
       "      <td>0</td>\n",
       "      <td>0</td>\n",
       "      <td>0</td>\n",
       "    </tr>\n",
       "    <tr>\n",
       "      <th>7</th>\n",
       "      <td>44860</td>\n",
       "      <td>44860-5</td>\n",
       "      <td>44860-5-52</td>\n",
       "      <td>Knee</td>\n",
       "      <td>Natural</td>\n",
       "      <td>1</td>\n",
       "      <td>1</td>\n",
       "      <td>0</td>\n",
       "      <td>0</td>\n",
       "    </tr>\n",
       "    <tr>\n",
       "      <th>11</th>\n",
       "      <td>36621</td>\n",
       "      <td>36621-13</td>\n",
       "      <td>36621-13-58</td>\n",
       "      <td>Foot</td>\n",
       "      <td>Natural</td>\n",
       "      <td>1</td>\n",
       "      <td>1</td>\n",
       "      <td>1</td>\n",
       "      <td>1</td>\n",
       "    </tr>\n",
       "  </tbody>\n",
       "</table>\n",
       "</div>"
      ],
      "text/plain": [
       "    PlayerKey    GameID      PlayKey BodyPart  Surface  DM_M1  DM_M7  DM_M28  \\\n",
       "1       46074   46074-7   46074-7-26     Knee  Natural      1      1       0   \n",
       "3       46646   46646-3   46646-3-30    Ankle  Natural      1      0       0   \n",
       "5       41145   41145-2   41145-2-60     Knee  Natural      1      0       0   \n",
       "7       44860   44860-5   44860-5-52     Knee  Natural      1      1       0   \n",
       "11      36621  36621-13  36621-13-58     Foot  Natural      1      1       1   \n",
       "\n",
       "    DM_M42  \n",
       "1        0  \n",
       "3        0  \n",
       "5        0  \n",
       "7        0  \n",
       "11       1  "
      ]
     },
     "execution_count": 8,
     "metadata": {},
     "output_type": "execute_result"
    }
   ],
   "source": [
    "inj_natural.head()"
   ]
  },
  {
   "cell_type": "code",
   "execution_count": 9,
   "metadata": {
    "execution": {
     "iopub.execute_input": "2022-07-31T13:15:56.967955Z",
     "iopub.status.busy": "2022-07-31T13:15:56.967736Z",
     "iopub.status.idle": "2022-07-31T13:15:56.982495Z",
     "shell.execute_reply": "2022-07-31T13:15:56.981870Z",
     "shell.execute_reply.started": "2022-07-31T13:15:56.967924Z"
    }
   },
   "outputs": [
    {
     "data": {
      "text/html": [
       "<div>\n",
       "<style scoped>\n",
       "    .dataframe tbody tr th:only-of-type {\n",
       "        vertical-align: middle;\n",
       "    }\n",
       "\n",
       "    .dataframe tbody tr th {\n",
       "        vertical-align: top;\n",
       "    }\n",
       "\n",
       "    .dataframe thead th {\n",
       "        text-align: right;\n",
       "    }\n",
       "</style>\n",
       "<table border=\"1\" class=\"dataframe\">\n",
       "  <thead>\n",
       "    <tr style=\"text-align: right;\">\n",
       "      <th></th>\n",
       "      <th>PlayerKey</th>\n",
       "      <th>GameID</th>\n",
       "      <th>PlayKey</th>\n",
       "      <th>BodyPart</th>\n",
       "      <th>Surface</th>\n",
       "      <th>DM_M1</th>\n",
       "      <th>DM_M7</th>\n",
       "      <th>DM_M28</th>\n",
       "      <th>DM_M42</th>\n",
       "    </tr>\n",
       "  </thead>\n",
       "  <tbody>\n",
       "    <tr>\n",
       "      <th>0</th>\n",
       "      <td>39873</td>\n",
       "      <td>39873-4</td>\n",
       "      <td>39873-4-32</td>\n",
       "      <td>Knee</td>\n",
       "      <td>Synthetic</td>\n",
       "      <td>1</td>\n",
       "      <td>1</td>\n",
       "      <td>1</td>\n",
       "      <td>1</td>\n",
       "    </tr>\n",
       "    <tr>\n",
       "      <th>2</th>\n",
       "      <td>36557</td>\n",
       "      <td>36557-1</td>\n",
       "      <td>36557-1-70</td>\n",
       "      <td>Ankle</td>\n",
       "      <td>Synthetic</td>\n",
       "      <td>1</td>\n",
       "      <td>1</td>\n",
       "      <td>1</td>\n",
       "      <td>1</td>\n",
       "    </tr>\n",
       "    <tr>\n",
       "      <th>4</th>\n",
       "      <td>43532</td>\n",
       "      <td>43532-5</td>\n",
       "      <td>43532-5-69</td>\n",
       "      <td>Ankle</td>\n",
       "      <td>Synthetic</td>\n",
       "      <td>1</td>\n",
       "      <td>1</td>\n",
       "      <td>1</td>\n",
       "      <td>1</td>\n",
       "    </tr>\n",
       "    <tr>\n",
       "      <th>6</th>\n",
       "      <td>46014</td>\n",
       "      <td>46014-10</td>\n",
       "      <td>46014-10-22</td>\n",
       "      <td>Ankle</td>\n",
       "      <td>Synthetic</td>\n",
       "      <td>1</td>\n",
       "      <td>1</td>\n",
       "      <td>1</td>\n",
       "      <td>1</td>\n",
       "    </tr>\n",
       "    <tr>\n",
       "      <th>8</th>\n",
       "      <td>44806</td>\n",
       "      <td>44806-7</td>\n",
       "      <td>44806-7-61</td>\n",
       "      <td>Knee</td>\n",
       "      <td>Synthetic</td>\n",
       "      <td>1</td>\n",
       "      <td>0</td>\n",
       "      <td>0</td>\n",
       "      <td>0</td>\n",
       "    </tr>\n",
       "  </tbody>\n",
       "</table>\n",
       "</div>"
      ],
      "text/plain": [
       "   PlayerKey    GameID      PlayKey BodyPart    Surface  DM_M1  DM_M7  DM_M28  \\\n",
       "0      39873   39873-4   39873-4-32     Knee  Synthetic      1      1       1   \n",
       "2      36557   36557-1   36557-1-70    Ankle  Synthetic      1      1       1   \n",
       "4      43532   43532-5   43532-5-69    Ankle  Synthetic      1      1       1   \n",
       "6      46014  46014-10  46014-10-22    Ankle  Synthetic      1      1       1   \n",
       "8      44806   44806-7   44806-7-61     Knee  Synthetic      1      0       0   \n",
       "\n",
       "   DM_M42  \n",
       "0       1  \n",
       "2       1  \n",
       "4       1  \n",
       "6       1  \n",
       "8       0  "
      ]
     },
     "execution_count": 9,
     "metadata": {},
     "output_type": "execute_result"
    }
   ],
   "source": [
    "inj_turf.head()"
   ]
  },
  {
   "cell_type": "markdown",
   "metadata": {},
   "source": [
    "# Ideas\n",
    "\n",
    "Visualize the field\n",
    "\n",
    "Heatmaps of different types of injuries\n",
    "\n",
    "Heatmaps with player position on days missed on synthetic vs real turf\n",
    "\n",
    "Trends when connecting Player injuries to the attributes of the play\n",
    "\n",
    "Ultimately have to connect it to a surface factor \n",
    "\n",
    "Build a logistic model that predicts probability of injury based on surface type.\n",
    "\n",
    "How early in the game do they get injured based on the surface. \n",
    "\n",
    "Number of plays it takes for an injury based on position. \n",
    "\n",
    "Number of days missed based on injury\n",
    "\n",
    "# Data Cleaning\n"
   ]
  },
  {
   "cell_type": "code",
   "execution_count": 10,
   "metadata": {
    "execution": {
     "iopub.execute_input": "2022-07-31T13:15:56.984060Z",
     "iopub.status.busy": "2022-07-31T13:15:56.983646Z",
     "iopub.status.idle": "2022-07-31T13:15:57.579128Z",
     "shell.execute_reply": "2022-07-31T13:15:57.578037Z",
     "shell.execute_reply.started": "2022-07-31T13:15:56.984019Z"
    }
   },
   "outputs": [
    {
     "data": {
      "text/html": [
       "<div>\n",
       "<style scoped>\n",
       "    .dataframe tbody tr th:only-of-type {\n",
       "        vertical-align: middle;\n",
       "    }\n",
       "\n",
       "    .dataframe tbody tr th {\n",
       "        vertical-align: top;\n",
       "    }\n",
       "\n",
       "    .dataframe thead th {\n",
       "        text-align: right;\n",
       "    }\n",
       "</style>\n",
       "<table border=\"1\" class=\"dataframe\">\n",
       "  <thead>\n",
       "    <tr style=\"text-align: right;\">\n",
       "      <th></th>\n",
       "      <th>PlayerKey</th>\n",
       "      <th>GameID</th>\n",
       "      <th>PlayKey</th>\n",
       "      <th>BodyPart</th>\n",
       "      <th>Surface</th>\n",
       "      <th>DM_M1</th>\n",
       "      <th>DM_M7</th>\n",
       "      <th>DM_M28</th>\n",
       "      <th>DM_M42</th>\n",
       "      <th>RosterPosition</th>\n",
       "      <th>PlayerDay</th>\n",
       "      <th>PlayerGame</th>\n",
       "      <th>StadiumType</th>\n",
       "      <th>FieldType</th>\n",
       "      <th>Temperature</th>\n",
       "      <th>Weather</th>\n",
       "      <th>PlayType</th>\n",
       "      <th>PlayerGamePlay</th>\n",
       "      <th>Position</th>\n",
       "      <th>PositionGroup</th>\n",
       "    </tr>\n",
       "  </thead>\n",
       "  <tbody>\n",
       "    <tr>\n",
       "      <th>0</th>\n",
       "      <td>39873</td>\n",
       "      <td>39873-4</td>\n",
       "      <td>39873-4-32</td>\n",
       "      <td>Knee</td>\n",
       "      <td>Synthetic</td>\n",
       "      <td>1</td>\n",
       "      <td>1</td>\n",
       "      <td>1</td>\n",
       "      <td>1</td>\n",
       "      <td>Linebacker</td>\n",
       "      <td>29.0</td>\n",
       "      <td>4.0</td>\n",
       "      <td>Indoors</td>\n",
       "      <td>Synthetic</td>\n",
       "      <td>84.0</td>\n",
       "      <td>Cloudy</td>\n",
       "      <td>Punt</td>\n",
       "      <td>32.0</td>\n",
       "      <td>OLB</td>\n",
       "      <td>LB</td>\n",
       "    </tr>\n",
       "    <tr>\n",
       "      <th>1</th>\n",
       "      <td>46074</td>\n",
       "      <td>46074-7</td>\n",
       "      <td>46074-7-26</td>\n",
       "      <td>Knee</td>\n",
       "      <td>Natural</td>\n",
       "      <td>1</td>\n",
       "      <td>1</td>\n",
       "      <td>0</td>\n",
       "      <td>0</td>\n",
       "      <td>Linebacker</td>\n",
       "      <td>50.0</td>\n",
       "      <td>7.0</td>\n",
       "      <td>Open</td>\n",
       "      <td>Natural</td>\n",
       "      <td>76.0</td>\n",
       "      <td>Partly Cloudy</td>\n",
       "      <td>Punt</td>\n",
       "      <td>26.0</td>\n",
       "      <td>OLB</td>\n",
       "      <td>LB</td>\n",
       "    </tr>\n",
       "    <tr>\n",
       "      <th>2</th>\n",
       "      <td>36557</td>\n",
       "      <td>36557-1</td>\n",
       "      <td>36557-1-70</td>\n",
       "      <td>Ankle</td>\n",
       "      <td>Synthetic</td>\n",
       "      <td>1</td>\n",
       "      <td>1</td>\n",
       "      <td>1</td>\n",
       "      <td>1</td>\n",
       "      <td>Safety</td>\n",
       "      <td>1.0</td>\n",
       "      <td>1.0</td>\n",
       "      <td>Outdoor</td>\n",
       "      <td>Synthetic</td>\n",
       "      <td>63.0</td>\n",
       "      <td>Clear and warm</td>\n",
       "      <td>Pass</td>\n",
       "      <td>70.0</td>\n",
       "      <td>SS</td>\n",
       "      <td>DB</td>\n",
       "    </tr>\n",
       "    <tr>\n",
       "      <th>3</th>\n",
       "      <td>46646</td>\n",
       "      <td>46646-3</td>\n",
       "      <td>46646-3-30</td>\n",
       "      <td>Ankle</td>\n",
       "      <td>Natural</td>\n",
       "      <td>1</td>\n",
       "      <td>0</td>\n",
       "      <td>0</td>\n",
       "      <td>0</td>\n",
       "      <td>Linebacker</td>\n",
       "      <td>15.0</td>\n",
       "      <td>3.0</td>\n",
       "      <td>Outdoor</td>\n",
       "      <td>Natural</td>\n",
       "      <td>80.0</td>\n",
       "      <td>Cloudy</td>\n",
       "      <td>Punt</td>\n",
       "      <td>30.0</td>\n",
       "      <td>LB</td>\n",
       "      <td>LB</td>\n",
       "    </tr>\n",
       "    <tr>\n",
       "      <th>4</th>\n",
       "      <td>43532</td>\n",
       "      <td>43532-5</td>\n",
       "      <td>43532-5-69</td>\n",
       "      <td>Ankle</td>\n",
       "      <td>Synthetic</td>\n",
       "      <td>1</td>\n",
       "      <td>1</td>\n",
       "      <td>1</td>\n",
       "      <td>1</td>\n",
       "      <td>Wide Receiver</td>\n",
       "      <td>32.0</td>\n",
       "      <td>5.0</td>\n",
       "      <td>Retractable Roof</td>\n",
       "      <td>Synthetic</td>\n",
       "      <td>89.0</td>\n",
       "      <td>Partly Cloudy</td>\n",
       "      <td>Kickoff</td>\n",
       "      <td>69.0</td>\n",
       "      <td>WR</td>\n",
       "      <td>WR</td>\n",
       "    </tr>\n",
       "  </tbody>\n",
       "</table>\n",
       "</div>"
      ],
      "text/plain": [
       "   PlayerKey   GameID     PlayKey BodyPart    Surface  DM_M1  DM_M7  DM_M28  \\\n",
       "0      39873  39873-4  39873-4-32     Knee  Synthetic      1      1       1   \n",
       "1      46074  46074-7  46074-7-26     Knee    Natural      1      1       0   \n",
       "2      36557  36557-1  36557-1-70    Ankle  Synthetic      1      1       1   \n",
       "3      46646  46646-3  46646-3-30    Ankle    Natural      1      0       0   \n",
       "4      43532  43532-5  43532-5-69    Ankle  Synthetic      1      1       1   \n",
       "\n",
       "   DM_M42 RosterPosition  PlayerDay  PlayerGame       StadiumType  FieldType  \\\n",
       "0       1     Linebacker       29.0         4.0           Indoors  Synthetic   \n",
       "1       0     Linebacker       50.0         7.0              Open    Natural   \n",
       "2       1         Safety        1.0         1.0           Outdoor  Synthetic   \n",
       "3       0     Linebacker       15.0         3.0           Outdoor    Natural   \n",
       "4       1  Wide Receiver       32.0         5.0  Retractable Roof  Synthetic   \n",
       "\n",
       "   Temperature         Weather PlayType  PlayerGamePlay Position PositionGroup  \n",
       "0         84.0          Cloudy     Punt            32.0      OLB            LB  \n",
       "1         76.0   Partly Cloudy     Punt            26.0      OLB            LB  \n",
       "2         63.0  Clear and warm     Pass            70.0       SS            DB  \n",
       "3         80.0          Cloudy     Punt            30.0       LB            LB  \n",
       "4         89.0   Partly Cloudy  Kickoff            69.0       WR            WR  "
      ]
     },
     "execution_count": 10,
     "metadata": {},
     "output_type": "execute_result"
    }
   ],
   "source": [
    "inj_nat_play = pd.merge(inj_natural,\n",
    "                 playlist,\n",
    "                 on=['PlayerKey', 'GameID', 'PlayKey'],\n",
    "                       how='left')\n",
    "inj_tur_play = pd.merge(inj_turf,\n",
    "                 playlist,\n",
    "                 on=['PlayerKey', 'GameID', 'PlayKey'],\n",
    "                       how ='left')\n",
    "\n",
    "inj_play = pd.merge(injuries,\n",
    "                 playlist,\n",
    "                 on=['PlayerKey', 'GameID', 'PlayKey'],\n",
    "                       how ='left')\n",
    "\n",
    "inj_play_enc = pd.concat([inj_play,pd.get_dummies(inj_play['BodyPart'], prefix='part'), pd.get_dummies(inj_play['RosterPosition'], prefix='pos')],axis=1)\n",
    "\n",
    "inj_play.head()\n",
    "\n",
    "\n",
    "#put NAN play key into separate file then join with attributes\n"
   ]
  },
  {
   "cell_type": "code",
   "execution_count": 11,
   "metadata": {
    "execution": {
     "iopub.execute_input": "2022-07-31T13:15:57.580877Z",
     "iopub.status.busy": "2022-07-31T13:15:57.580519Z",
     "iopub.status.idle": "2022-07-31T13:15:57.588064Z",
     "shell.execute_reply": "2022-07-31T13:15:57.587289Z",
     "shell.execute_reply.started": "2022-07-31T13:15:57.580712Z"
    }
   },
   "outputs": [
    {
     "data": {
      "text/plain": [
       "1    105\n",
       "Name: DM_M1, dtype: int64"
      ]
     },
     "execution_count": 11,
     "metadata": {},
     "output_type": "execute_result"
    }
   ],
   "source": [
    "injuries['DM_M1'].value_counts()"
   ]
  },
  {
   "cell_type": "code",
   "execution_count": 12,
   "metadata": {
    "execution": {
     "iopub.execute_input": "2022-07-31T13:15:57.589408Z",
     "iopub.status.busy": "2022-07-31T13:15:57.589158Z",
     "iopub.status.idle": "2022-07-31T13:15:57.600097Z",
     "shell.execute_reply": "2022-07-31T13:15:57.599230Z",
     "shell.execute_reply.started": "2022-07-31T13:15:57.589370Z"
    }
   },
   "outputs": [
    {
     "data": {
      "text/plain": [
       "1    76\n",
       "0    29\n",
       "Name: DM_M7, dtype: int64"
      ]
     },
     "execution_count": 12,
     "metadata": {},
     "output_type": "execute_result"
    }
   ],
   "source": [
    "injuries['DM_M7'].value_counts()"
   ]
  },
  {
   "cell_type": "code",
   "execution_count": 13,
   "metadata": {
    "execution": {
     "iopub.execute_input": "2022-07-31T13:15:57.601365Z",
     "iopub.status.busy": "2022-07-31T13:15:57.601125Z",
     "iopub.status.idle": "2022-07-31T13:15:57.613235Z",
     "shell.execute_reply": "2022-07-31T13:15:57.612368Z",
     "shell.execute_reply.started": "2022-07-31T13:15:57.601321Z"
    }
   },
   "outputs": [
    {
     "data": {
      "text/plain": [
       "0    68\n",
       "1    37\n",
       "Name: DM_M28, dtype: int64"
      ]
     },
     "execution_count": 13,
     "metadata": {},
     "output_type": "execute_result"
    }
   ],
   "source": [
    "injuries['DM_M28'].value_counts()"
   ]
  },
  {
   "cell_type": "code",
   "execution_count": 14,
   "metadata": {
    "execution": {
     "iopub.execute_input": "2022-07-31T13:15:57.614761Z",
     "iopub.status.busy": "2022-07-31T13:15:57.614412Z",
     "iopub.status.idle": "2022-07-31T13:15:57.625062Z",
     "shell.execute_reply": "2022-07-31T13:15:57.624502Z",
     "shell.execute_reply.started": "2022-07-31T13:15:57.614726Z"
    }
   },
   "outputs": [
    {
     "data": {
      "text/plain": [
       "0    76\n",
       "1    29\n",
       "Name: DM_M42, dtype: int64"
      ]
     },
     "execution_count": 14,
     "metadata": {},
     "output_type": "execute_result"
    }
   ],
   "source": [
    "injuries['DM_M42'].value_counts()"
   ]
  },
  {
   "cell_type": "code",
   "execution_count": 15,
   "metadata": {
    "execution": {
     "iopub.execute_input": "2022-07-31T13:15:57.626617Z",
     "iopub.status.busy": "2022-07-31T13:15:57.626283Z",
     "iopub.status.idle": "2022-07-31T13:15:57.658022Z",
     "shell.execute_reply": "2022-07-31T13:15:57.657293Z",
     "shell.execute_reply.started": "2022-07-31T13:15:57.626580Z"
    }
   },
   "outputs": [
    {
     "data": {
      "text/plain": [
       "Outdoor                   145032\n",
       "Outdoors                   32956\n",
       "Indoors                    22805\n",
       "Dome                        9376\n",
       "Retractable Roof            8914\n",
       "Indoor                      6892\n",
       "Open                        4124\n",
       "Domed, closed               3076\n",
       "Retr. Roof - Closed         2235\n",
       "Retr. Roof-Closed           2015\n",
       "Domed, open                 1779\n",
       "Dome, closed                1059\n",
       "Closed Dome                 1011\n",
       "Domed                        985\n",
       "Oudoor                       914\n",
       "Domed, Open                  807\n",
       "Ourdoor                      778\n",
       "Outdoor Retr Roof-Open       601\n",
       "Outddors                     595\n",
       "Indoor, Roof Closed          547\n",
       "Retr. Roof-Open              486\n",
       "Retr. Roof - Open            486\n",
       "Indoor, Open Roof            479\n",
       "Bowl                         465\n",
       "Retr. Roof Closed            414\n",
       "Heinz Field                  389\n",
       "Outdor                       356\n",
       "Outside                      341\n",
       "Cloudy                       178\n",
       "Name: StadiumType, dtype: int64"
      ]
     },
     "execution_count": 15,
     "metadata": {},
     "output_type": "execute_result"
    }
   ],
   "source": [
    "#Lots of values that need to be cleaned\n",
    "playlist['StadiumType'].value_counts()"
   ]
  },
  {
   "cell_type": "code",
   "execution_count": 16,
   "metadata": {
    "execution": {
     "iopub.execute_input": "2022-07-31T13:15:57.659462Z",
     "iopub.status.busy": "2022-07-31T13:15:57.659048Z",
     "iopub.status.idle": "2022-07-31T13:15:57.691207Z",
     "shell.execute_reply": "2022-07-31T13:15:57.690653Z",
     "shell.execute_reply.started": "2022-07-31T13:15:57.659415Z"
    }
   },
   "outputs": [
    {
     "data": {
      "text/plain": [
       "Cloudy                                                                              60705\n",
       "Sunny                                                                               51728\n",
       "Partly Cloudy                                                                       28463\n",
       "Clear                                                                               25923\n",
       "Mostly Cloudy                                                                       11176\n",
       "                                                                                    ...  \n",
       "30% Chance of Rain                                                                    354\n",
       "Partly Clouidy                                                                        302\n",
       "Coudy                                                                                 278\n",
       "Cloudy with periods of rain, thunder possible. Winds shifting to WNW, 10-20 mph.      246\n",
       "Party Cloudy                                                                          230\n",
       "Name: Weather, Length: 63, dtype: int64"
      ]
     },
     "execution_count": 16,
     "metadata": {},
     "output_type": "execute_result"
    }
   ],
   "source": [
    "playlist['Weather'].value_counts()"
   ]
  },
  {
   "cell_type": "code",
   "execution_count": 17,
   "metadata": {
    "execution": {
     "iopub.execute_input": "2022-07-31T13:15:57.692408Z",
     "iopub.status.busy": "2022-07-31T13:15:57.692094Z",
     "iopub.status.idle": "2022-07-31T13:15:58.606694Z",
     "shell.execute_reply": "2022-07-31T13:15:58.605762Z",
     "shell.execute_reply.started": "2022-07-31T13:15:57.692373Z"
    }
   },
   "outputs": [],
   "source": [
    "m_inju_play=pd.merge(playlist,injuries,on='PlayKey',how='left')\n",
    "m_inju_play['Injury'] = m_inju_play['BodyPart'].apply(lambda x: 1 if x in ['Knee','Foot','Ankle']  else 0)\n",
    "\n",
    "m_inju_play_agg=m_inju_play[['StadiumType','FieldType','Weather','Injury', 'PlayType', 'Position', 'PlayerDay', 'Temperature']]\n",
    "#Change weather to 1 and 0\n",
    "m_inju_play_agg['Weather']=m_inju_play_agg.Weather.isin(['rain','Rain','Snow','snow'])\n",
    "m_inju_play_agg['Weather'] = m_inju_play_agg['Weather'].apply(lambda x: 1 if x== True  else 0)\n",
    "\n",
    "m_inju_play_agg['StadiumType']=m_inju_play_agg.StadiumType.isin(['Outdoor','Oudoor','Open','Ourdoor','Out','open'])\n",
    "m_inju_play_agg['StadiumType'] = m_inju_play_agg['StadiumType'].apply(lambda x: 1 if x== True  else 0)\n",
    "\n",
    "m_inju_play_agg['FieldType']=m_inju_play_agg.FieldType.isin(['Natural'])\n",
    "m_inju_play_agg['FieldType'] = m_inju_play_agg['FieldType'].apply(lambda x: 1 if x== True  else 0)\n",
    "\n",
    "m_inju_play_agg.PlayType = pd.Categorical(m_inju_play_agg.PlayType)\n",
    "m_inju_play_agg['PlayType_c'] = m_inju_play_agg.PlayType.cat.codes\n",
    "\n",
    "m_inju_play_agg.Position = pd.Categorical(m_inju_play_agg.Position)\n",
    "m_inju_play_agg['Position_c'] = m_inju_play_agg.Position.cat.codes\n",
    "\n",
    "#Now we are going to multiplicate the StadiumType Variable with the Weather because the weather doesnt matter if the match is played on a closed stadium\n",
    "\n",
    "m_inju_play_agg['Multiplication']=m_inju_play_agg['StadiumType']*m_inju_play_agg['Weather']"
   ]
  },
  {
   "cell_type": "code",
   "execution_count": 18,
   "metadata": {
    "execution": {
     "iopub.execute_input": "2022-07-31T13:15:58.608038Z",
     "iopub.status.busy": "2022-07-31T13:15:58.607700Z",
     "iopub.status.idle": "2022-07-31T13:15:58.625126Z",
     "shell.execute_reply": "2022-07-31T13:15:58.624209Z",
     "shell.execute_reply.started": "2022-07-31T13:15:58.608003Z"
    }
   },
   "outputs": [
    {
     "data": {
      "text/html": [
       "<div>\n",
       "<style scoped>\n",
       "    .dataframe tbody tr th:only-of-type {\n",
       "        vertical-align: middle;\n",
       "    }\n",
       "\n",
       "    .dataframe tbody tr th {\n",
       "        vertical-align: top;\n",
       "    }\n",
       "\n",
       "    .dataframe thead th {\n",
       "        text-align: right;\n",
       "    }\n",
       "</style>\n",
       "<table border=\"1\" class=\"dataframe\">\n",
       "  <thead>\n",
       "    <tr style=\"text-align: right;\">\n",
       "      <th></th>\n",
       "      <th>StadiumType</th>\n",
       "      <th>FieldType</th>\n",
       "      <th>Weather</th>\n",
       "      <th>Injury</th>\n",
       "      <th>PlayType</th>\n",
       "      <th>Position</th>\n",
       "      <th>PlayerDay</th>\n",
       "      <th>Temperature</th>\n",
       "      <th>PlayType_c</th>\n",
       "      <th>Position_c</th>\n",
       "      <th>Multiplication</th>\n",
       "    </tr>\n",
       "  </thead>\n",
       "  <tbody>\n",
       "    <tr>\n",
       "      <th>0</th>\n",
       "      <td>1</td>\n",
       "      <td>0</td>\n",
       "      <td>0</td>\n",
       "      <td>0</td>\n",
       "      <td>Pass</td>\n",
       "      <td>QB</td>\n",
       "      <td>1</td>\n",
       "      <td>63</td>\n",
       "      <td>6</td>\n",
       "      <td>16</td>\n",
       "      <td>0</td>\n",
       "    </tr>\n",
       "    <tr>\n",
       "      <th>1</th>\n",
       "      <td>1</td>\n",
       "      <td>0</td>\n",
       "      <td>0</td>\n",
       "      <td>0</td>\n",
       "      <td>Pass</td>\n",
       "      <td>QB</td>\n",
       "      <td>1</td>\n",
       "      <td>63</td>\n",
       "      <td>6</td>\n",
       "      <td>16</td>\n",
       "      <td>0</td>\n",
       "    </tr>\n",
       "    <tr>\n",
       "      <th>2</th>\n",
       "      <td>1</td>\n",
       "      <td>0</td>\n",
       "      <td>0</td>\n",
       "      <td>0</td>\n",
       "      <td>Rush</td>\n",
       "      <td>QB</td>\n",
       "      <td>1</td>\n",
       "      <td>63</td>\n",
       "      <td>10</td>\n",
       "      <td>16</td>\n",
       "      <td>0</td>\n",
       "    </tr>\n",
       "    <tr>\n",
       "      <th>3</th>\n",
       "      <td>1</td>\n",
       "      <td>0</td>\n",
       "      <td>0</td>\n",
       "      <td>0</td>\n",
       "      <td>Rush</td>\n",
       "      <td>QB</td>\n",
       "      <td>1</td>\n",
       "      <td>63</td>\n",
       "      <td>10</td>\n",
       "      <td>16</td>\n",
       "      <td>0</td>\n",
       "    </tr>\n",
       "    <tr>\n",
       "      <th>4</th>\n",
       "      <td>1</td>\n",
       "      <td>0</td>\n",
       "      <td>0</td>\n",
       "      <td>0</td>\n",
       "      <td>Pass</td>\n",
       "      <td>QB</td>\n",
       "      <td>1</td>\n",
       "      <td>63</td>\n",
       "      <td>6</td>\n",
       "      <td>16</td>\n",
       "      <td>0</td>\n",
       "    </tr>\n",
       "  </tbody>\n",
       "</table>\n",
       "</div>"
      ],
      "text/plain": [
       "   StadiumType  FieldType  Weather  Injury PlayType Position  PlayerDay  \\\n",
       "0            1          0        0       0     Pass       QB          1   \n",
       "1            1          0        0       0     Pass       QB          1   \n",
       "2            1          0        0       0     Rush       QB          1   \n",
       "3            1          0        0       0     Rush       QB          1   \n",
       "4            1          0        0       0     Pass       QB          1   \n",
       "\n",
       "   Temperature  PlayType_c  Position_c  Multiplication  \n",
       "0           63           6          16               0  \n",
       "1           63           6          16               0  \n",
       "2           63          10          16               0  \n",
       "3           63          10          16               0  \n",
       "4           63           6          16               0  "
      ]
     },
     "execution_count": 18,
     "metadata": {},
     "output_type": "execute_result"
    }
   ],
   "source": [
    "m_inju_play_agg.head()"
   ]
  },
  {
   "cell_type": "markdown",
   "metadata": {},
   "source": [
    "# EDA\n",
    "\n",
    "## BodyPart"
   ]
  },
  {
   "cell_type": "code",
   "execution_count": 19,
   "metadata": {
    "execution": {
     "iopub.execute_input": "2022-07-31T13:15:58.626650Z",
     "iopub.status.busy": "2022-07-31T13:15:58.626291Z",
     "iopub.status.idle": "2022-07-31T13:15:58.952848Z",
     "shell.execute_reply": "2022-07-31T13:15:58.951832Z",
     "shell.execute_reply.started": "2022-07-31T13:15:58.626485Z"
    }
   },
   "outputs": [
    {
     "data": {
      "text/plain": [
       "<matplotlib.axes._subplots.AxesSubplot at 0x22fc5ec64c0>"
      ]
     },
     "execution_count": 19,
     "metadata": {},
     "output_type": "execute_result"
    },
    {
     "data": {
      "image/png": "[encoded data removed]",
      "text/plain": [
       "<Figure size 432x288 with 1 Axes>"
      ]
     },
     "metadata": {
      "needs_background": "light"
     },
     "output_type": "display_data"
    }
   ],
   "source": [
    "sns.countplot(data=inj_play, x='BodyPart', hue= 'Surface')"
   ]
  },
  {
   "cell_type": "markdown",
   "metadata": {},
   "source": [
    "# Roster Position"
   ]
  },
  {
   "cell_type": "code",
   "execution_count": 20,
   "metadata": {
    "execution": {
     "iopub.execute_input": "2022-07-31T13:15:58.954900Z",
     "iopub.status.busy": "2022-07-31T13:15:58.954396Z",
     "iopub.status.idle": "2022-07-31T13:15:59.372623Z",
     "shell.execute_reply": "2022-07-31T13:15:59.371708Z",
     "shell.execute_reply.started": "2022-07-31T13:15:58.954837Z"
    }
   },
   "outputs": [
    {
     "data": {
      "text/plain": [
       "<matplotlib.axes._subplots.AxesSubplot at 0x22fc6be0fd0>"
      ]
     },
     "execution_count": 20,
     "metadata": {},
     "output_type": "execute_result"
    },
    {
     "data": {
      "image/png": "[encoded data removed]",
      "text/plain": [
       "<Figure size 1152x432 with 1 Axes>"
      ]
     },
     "metadata": {
      "needs_background": "light"
     },
     "output_type": "display_data"
    }
   ],
   "source": [
    "plt.figure(figsize=(16, 6))\n",
    "sns.countplot(data=inj_play, x='RosterPosition', hue= 'Surface')"
   ]
  },
  {
   "cell_type": "code",
   "execution_count": 21,
   "metadata": {
    "execution": {
     "iopub.execute_input": "2022-07-31T13:15:59.374792Z",
     "iopub.status.busy": "2022-07-31T13:15:59.374263Z",
     "iopub.status.idle": "2022-07-31T13:15:59.625797Z",
     "shell.execute_reply": "2022-07-31T13:15:59.624996Z",
     "shell.execute_reply.started": "2022-07-31T13:15:59.374736Z"
    }
   },
   "outputs": [
    {
     "data": {
      "text/plain": [
       "<matplotlib.axes._subplots.AxesSubplot at 0x22fc7497cd0>"
      ]
     },
     "execution_count": 21,
     "metadata": {},
     "output_type": "execute_result"
    },
    {
     "data": {
      "image/png": "[encoded data removed]",
      "text/plain": [
       "<Figure size 1152x432 with 1 Axes>"
      ]
     },
     "metadata": {
      "needs_background": "light"
     },
     "output_type": "display_data"
    }
   ],
   "source": [
    "plt.figure(figsize=(16, 6))\n",
    "sns.countplot(data=inj_play, x='PositionGroup', hue= 'Surface')"
   ]
  },
  {
   "cell_type": "code",
   "execution_count": 22,
   "metadata": {
    "execution": {
     "iopub.execute_input": "2022-07-31T13:15:59.629400Z",
     "iopub.status.busy": "2022-07-31T13:15:59.629123Z",
     "iopub.status.idle": "2022-07-31T13:15:59.912607Z",
     "shell.execute_reply": "2022-07-31T13:15:59.911687Z",
     "shell.execute_reply.started": "2022-07-31T13:15:59.629348Z"
    }
   },
   "outputs": [
    {
     "data": {
      "text/plain": [
       "<matplotlib.axes._subplots.AxesSubplot at 0x22fc74f65b0>"
      ]
     },
     "execution_count": 22,
     "metadata": {},
     "output_type": "execute_result"
    },
    {
     "data": {
      "image/png": "[encoded data removed]",
      "text/plain": [
       "<Figure size 1152x432 with 1 Axes>"
      ]
     },
     "metadata": {
      "needs_background": "light"
     },
     "output_type": "display_data"
    }
   ],
   "source": [
    "plt.figure(figsize=(16, 6))\n",
    "sns.countplot(data=inj_play, x='PlayType', hue= 'Surface')"
   ]
  },
  {
   "cell_type": "code",
   "execution_count": 23,
   "metadata": {
    "execution": {
     "iopub.execute_input": "2022-07-31T13:15:59.914718Z",
     "iopub.status.busy": "2022-07-31T13:15:59.914219Z",
     "iopub.status.idle": "2022-07-31T13:16:00.089643Z",
     "shell.execute_reply": "2022-07-31T13:16:00.088917Z",
     "shell.execute_reply.started": "2022-07-31T13:15:59.914651Z"
    }
   },
   "outputs": [
    {
     "data": {
      "text/plain": [
       "<matplotlib.axes._subplots.AxesSubplot at 0x22fc7481e80>"
      ]
     },
     "execution_count": 23,
     "metadata": {},
     "output_type": "execute_result"
    },
    {
     "data": {
      "image/png": "[encoded data removed]",
      "text/plain": [
       "<Figure size 432x432 with 1 Axes>"
      ]
     },
     "metadata": {
      "needs_background": "light"
     },
     "output_type": "display_data"
    }
   ],
   "source": [
    "plt.figure(figsize=(6, 6))\n",
    "sns.countplot(data=inj_play, x='DM_M7', hue= 'Surface')"
   ]
  },
  {
   "cell_type": "code",
   "execution_count": 24,
   "metadata": {
    "execution": {
     "iopub.execute_input": "2022-07-31T13:16:00.091664Z",
     "iopub.status.busy": "2022-07-31T13:16:00.091070Z",
     "iopub.status.idle": "2022-07-31T13:16:00.265921Z",
     "shell.execute_reply": "2022-07-31T13:16:00.265257Z",
     "shell.execute_reply.started": "2022-07-31T13:16:00.091610Z"
    }
   },
   "outputs": [
    {
     "data": {
      "text/plain": [
       "<matplotlib.axes._subplots.AxesSubplot at 0x22fcad10a30>"
      ]
     },
     "execution_count": 24,
     "metadata": {},
     "output_type": "execute_result"
    },
    {
     "data": {
      "image/png": "[encoded data removed]",
      "text/plain": [
       "<Figure size 432x432 with 1 Axes>"
      ]
     },
     "metadata": {
      "needs_background": "light"
     },
     "output_type": "display_data"
    }
   ],
   "source": [
    "plt.figure(figsize=(6, 6))\n",
    "sns.countplot(data=inj_play, x='DM_M28', hue= 'Surface')"
   ]
  },
  {
   "cell_type": "code",
   "execution_count": 25,
   "metadata": {
    "execution": {
     "iopub.execute_input": "2022-07-31T13:16:00.267937Z",
     "iopub.status.busy": "2022-07-31T13:16:00.267382Z",
     "iopub.status.idle": "2022-07-31T13:16:00.450868Z",
     "shell.execute_reply": "2022-07-31T13:16:00.450061Z",
     "shell.execute_reply.started": "2022-07-31T13:16:00.267881Z"
    }
   },
   "outputs": [
    {
     "data": {
      "text/plain": [
       "<matplotlib.axes._subplots.AxesSubplot at 0x22fcb2162e0>"
      ]
     },
     "execution_count": 25,
     "metadata": {},
     "output_type": "execute_result"
    },
    {
     "data": {
      "image/png": "[encoded data removed]",
      "text/plain": [
       "<Figure size 432x432 with 1 Axes>"
      ]
     },
     "metadata": {
      "needs_background": "light"
     },
     "output_type": "display_data"
    }
   ],
   "source": [
    "plt.figure(figsize=(6, 6))\n",
    "sns.countplot(data=inj_play, x='DM_M42', hue= 'Surface')"
   ]
  },
  {
   "cell_type": "code",
   "execution_count": 26,
   "metadata": {
    "execution": {
     "iopub.execute_input": "2022-07-31T13:16:00.454470Z",
     "iopub.status.busy": "2022-07-31T13:16:00.454172Z",
     "iopub.status.idle": "2022-07-31T13:16:00.963537Z",
     "shell.execute_reply": "2022-07-31T13:16:00.962668Z",
     "shell.execute_reply.started": "2022-07-31T13:16:00.454419Z"
    }
   },
   "outputs": [
    {
     "data": {
      "text/plain": [
       "<matplotlib.axes._subplots.AxesSubplot at 0x22fcb21d5e0>"
      ]
     },
     "execution_count": 26,
     "metadata": {},
     "output_type": "execute_result"
    },
    {
     "data": {
      "image/png": "[encoded data removed]",
      "text/plain": [
       "<Figure size 2880x432 with 1 Axes>"
      ]
     },
     "metadata": {
      "needs_background": "light"
     },
     "output_type": "display_data"
    }
   ],
   "source": [
    "plt.figure(figsize=(40, 6))\n",
    "sns.countplot(data=inj_play, x='Weather', hue= 'Surface')"
   ]
  },
  {
   "cell_type": "code",
   "execution_count": 27,
   "metadata": {
    "execution": {
     "iopub.execute_input": "2022-07-31T13:16:00.965355Z",
     "iopub.status.busy": "2022-07-31T13:16:00.964997Z",
     "iopub.status.idle": "2022-07-31T13:16:01.336586Z",
     "shell.execute_reply": "2022-07-31T13:16:01.335627Z",
     "shell.execute_reply.started": "2022-07-31T13:16:00.965296Z"
    }
   },
   "outputs": [
    {
     "data": {
      "text/plain": [
       "<matplotlib.axes._subplots.AxesSubplot at 0x22fcb28fc40>"
      ]
     },
     "execution_count": 27,
     "metadata": {},
     "output_type": "execute_result"
    },
    {
     "data": {
      "image/png": "[encoded data removed]",
      "text/plain": [
       "<Figure size 1152x432 with 1 Axes>"
      ]
     },
     "metadata": {
      "needs_background": "light"
     },
     "output_type": "display_data"
    }
   ],
   "source": [
    "plt.figure(figsize=(16, 6))\n",
    "sns.countplot(data=inj_play, x='StadiumType', hue= 'Surface')"
   ]
  },
  {
   "cell_type": "markdown",
   "metadata": {},
   "source": [
    "Are there certain stadiums where they are occuring more than others?\n",
    "\n",
    "What body parts are being injured by position? And by surface?"
   ]
  },
  {
   "cell_type": "code",
   "execution_count": 28,
   "metadata": {
    "execution": {
     "iopub.execute_input": "2022-07-31T13:16:01.340189Z",
     "iopub.status.busy": "2022-07-31T13:16:01.339933Z",
     "iopub.status.idle": "2022-07-31T13:16:01.750709Z",
     "shell.execute_reply": "2022-07-31T13:16:01.750032Z",
     "shell.execute_reply.started": "2022-07-31T13:16:01.340139Z"
    }
   },
   "outputs": [
    {
     "data": {
      "text/plain": [
       "<matplotlib.axes._subplots.AxesSubplot at 0x22fbf1bc580>"
      ]
     },
     "execution_count": 28,
     "metadata": {},
     "output_type": "execute_result"
    },
    {
     "data": {
      "image/png": "[encoded data removed]",
      "text/plain": [
       "<Figure size 1440x432 with 1 Axes>"
      ]
     },
     "metadata": {
      "needs_background": "light"
     },
     "output_type": "display_data"
    }
   ],
   "source": [
    "plt.figure(figsize=(20, 6))\n",
    "sns.countplot(data=inj_play, x='PositionGroup', hue= 'BodyPart')"
   ]
  },
  {
   "cell_type": "code",
   "execution_count": 29,
   "metadata": {
    "execution": {
     "iopub.execute_input": "2022-07-31T13:16:01.752548Z",
     "iopub.status.busy": "2022-07-31T13:16:01.752001Z",
     "iopub.status.idle": "2022-07-31T13:16:01.781836Z",
     "shell.execute_reply": "2022-07-31T13:16:01.781035Z",
     "shell.execute_reply.started": "2022-07-31T13:16:01.752489Z"
    }
   },
   "outputs": [
    {
     "data": {
      "text/html": [
       "<div>\n",
       "<style scoped>\n",
       "    .dataframe tbody tr th:only-of-type {\n",
       "        vertical-align: middle;\n",
       "    }\n",
       "\n",
       "    .dataframe tbody tr th {\n",
       "        vertical-align: top;\n",
       "    }\n",
       "\n",
       "    .dataframe thead th {\n",
       "        text-align: right;\n",
       "    }\n",
       "</style>\n",
       "<table border=\"1\" class=\"dataframe\">\n",
       "  <thead>\n",
       "    <tr style=\"text-align: right;\">\n",
       "      <th></th>\n",
       "      <th>PlayerKey</th>\n",
       "      <th>GameID</th>\n",
       "      <th>PlayKey</th>\n",
       "      <th>BodyPart</th>\n",
       "      <th>Surface</th>\n",
       "      <th>DM_M1</th>\n",
       "      <th>DM_M7</th>\n",
       "      <th>DM_M28</th>\n",
       "      <th>DM_M42</th>\n",
       "      <th>RosterPosition</th>\n",
       "      <th>PlayerDay</th>\n",
       "      <th>PlayerGame</th>\n",
       "      <th>StadiumType</th>\n",
       "      <th>FieldType</th>\n",
       "      <th>Temperature</th>\n",
       "      <th>Weather</th>\n",
       "      <th>PlayType</th>\n",
       "      <th>PlayerGamePlay</th>\n",
       "      <th>Position</th>\n",
       "      <th>PositionGroup</th>\n",
       "    </tr>\n",
       "  </thead>\n",
       "  <tbody>\n",
       "    <tr>\n",
       "      <th>49</th>\n",
       "      <td>45950</td>\n",
       "      <td>45950-6</td>\n",
       "      <td>NaN</td>\n",
       "      <td>Toes</td>\n",
       "      <td>Synthetic</td>\n",
       "      <td>1</td>\n",
       "      <td>1</td>\n",
       "      <td>0</td>\n",
       "      <td>0</td>\n",
       "      <td>NaN</td>\n",
       "      <td>NaN</td>\n",
       "      <td>NaN</td>\n",
       "      <td>NaN</td>\n",
       "      <td>NaN</td>\n",
       "      <td>NaN</td>\n",
       "      <td>NaN</td>\n",
       "      <td>NaN</td>\n",
       "      <td>NaN</td>\n",
       "      <td>NaN</td>\n",
       "      <td>NaN</td>\n",
       "    </tr>\n",
       "    <tr>\n",
       "      <th>51</th>\n",
       "      <td>38253</td>\n",
       "      <td>38253-10</td>\n",
       "      <td>NaN</td>\n",
       "      <td>Toes</td>\n",
       "      <td>Synthetic</td>\n",
       "      <td>1</td>\n",
       "      <td>1</td>\n",
       "      <td>1</td>\n",
       "      <td>0</td>\n",
       "      <td>NaN</td>\n",
       "      <td>NaN</td>\n",
       "      <td>NaN</td>\n",
       "      <td>NaN</td>\n",
       "      <td>NaN</td>\n",
       "      <td>NaN</td>\n",
       "      <td>NaN</td>\n",
       "      <td>NaN</td>\n",
       "      <td>NaN</td>\n",
       "      <td>NaN</td>\n",
       "      <td>NaN</td>\n",
       "    </tr>\n",
       "    <tr>\n",
       "      <th>52</th>\n",
       "      <td>38214</td>\n",
       "      <td>38214-12</td>\n",
       "      <td>NaN</td>\n",
       "      <td>Toes</td>\n",
       "      <td>Synthetic</td>\n",
       "      <td>1</td>\n",
       "      <td>0</td>\n",
       "      <td>0</td>\n",
       "      <td>0</td>\n",
       "      <td>NaN</td>\n",
       "      <td>NaN</td>\n",
       "      <td>NaN</td>\n",
       "      <td>NaN</td>\n",
       "      <td>NaN</td>\n",
       "      <td>NaN</td>\n",
       "      <td>NaN</td>\n",
       "      <td>NaN</td>\n",
       "      <td>NaN</td>\n",
       "      <td>NaN</td>\n",
       "      <td>NaN</td>\n",
       "    </tr>\n",
       "    <tr>\n",
       "      <th>96</th>\n",
       "      <td>47196</td>\n",
       "      <td>47196-7</td>\n",
       "      <td>NaN</td>\n",
       "      <td>Toes</td>\n",
       "      <td>Synthetic</td>\n",
       "      <td>1</td>\n",
       "      <td>1</td>\n",
       "      <td>0</td>\n",
       "      <td>0</td>\n",
       "      <td>NaN</td>\n",
       "      <td>NaN</td>\n",
       "      <td>NaN</td>\n",
       "      <td>NaN</td>\n",
       "      <td>NaN</td>\n",
       "      <td>NaN</td>\n",
       "      <td>NaN</td>\n",
       "      <td>NaN</td>\n",
       "      <td>NaN</td>\n",
       "      <td>NaN</td>\n",
       "      <td>NaN</td>\n",
       "    </tr>\n",
       "    <tr>\n",
       "      <th>97</th>\n",
       "      <td>45975</td>\n",
       "      <td>45975-23</td>\n",
       "      <td>NaN</td>\n",
       "      <td>Toes</td>\n",
       "      <td>Natural</td>\n",
       "      <td>1</td>\n",
       "      <td>1</td>\n",
       "      <td>0</td>\n",
       "      <td>0</td>\n",
       "      <td>NaN</td>\n",
       "      <td>NaN</td>\n",
       "      <td>NaN</td>\n",
       "      <td>NaN</td>\n",
       "      <td>NaN</td>\n",
       "      <td>NaN</td>\n",
       "      <td>NaN</td>\n",
       "      <td>NaN</td>\n",
       "      <td>NaN</td>\n",
       "      <td>NaN</td>\n",
       "      <td>NaN</td>\n",
       "    </tr>\n",
       "    <tr>\n",
       "      <th>98</th>\n",
       "      <td>47273</td>\n",
       "      <td>47273-10</td>\n",
       "      <td>NaN</td>\n",
       "      <td>Toes</td>\n",
       "      <td>Synthetic</td>\n",
       "      <td>1</td>\n",
       "      <td>0</td>\n",
       "      <td>0</td>\n",
       "      <td>0</td>\n",
       "      <td>NaN</td>\n",
       "      <td>NaN</td>\n",
       "      <td>NaN</td>\n",
       "      <td>NaN</td>\n",
       "      <td>NaN</td>\n",
       "      <td>NaN</td>\n",
       "      <td>NaN</td>\n",
       "      <td>NaN</td>\n",
       "      <td>NaN</td>\n",
       "      <td>NaN</td>\n",
       "      <td>NaN</td>\n",
       "    </tr>\n",
       "    <tr>\n",
       "      <th>99</th>\n",
       "      <td>40405</td>\n",
       "      <td>40405-29</td>\n",
       "      <td>NaN</td>\n",
       "      <td>Toes</td>\n",
       "      <td>Synthetic</td>\n",
       "      <td>1</td>\n",
       "      <td>1</td>\n",
       "      <td>0</td>\n",
       "      <td>0</td>\n",
       "      <td>NaN</td>\n",
       "      <td>NaN</td>\n",
       "      <td>NaN</td>\n",
       "      <td>NaN</td>\n",
       "      <td>NaN</td>\n",
       "      <td>NaN</td>\n",
       "      <td>NaN</td>\n",
       "      <td>NaN</td>\n",
       "      <td>NaN</td>\n",
       "      <td>NaN</td>\n",
       "      <td>NaN</td>\n",
       "    </tr>\n",
       "  </tbody>\n",
       "</table>\n",
       "</div>"
      ],
      "text/plain": [
       "    PlayerKey    GameID PlayKey BodyPart    Surface  DM_M1  DM_M7  DM_M28  \\\n",
       "49      45950   45950-6     NaN     Toes  Synthetic      1      1       0   \n",
       "51      38253  38253-10     NaN     Toes  Synthetic      1      1       1   \n",
       "52      38214  38214-12     NaN     Toes  Synthetic      1      0       0   \n",
       "96      47196   47196-7     NaN     Toes  Synthetic      1      1       0   \n",
       "97      45975  45975-23     NaN     Toes    Natural      1      1       0   \n",
       "98      47273  47273-10     NaN     Toes  Synthetic      1      0       0   \n",
       "99      40405  40405-29     NaN     Toes  Synthetic      1      1       0   \n",
       "\n",
       "    DM_M42 RosterPosition  PlayerDay  PlayerGame StadiumType FieldType  \\\n",
       "49       0            NaN        NaN         NaN         NaN       NaN   \n",
       "51       0            NaN        NaN         NaN         NaN       NaN   \n",
       "52       0            NaN        NaN         NaN         NaN       NaN   \n",
       "96       0            NaN        NaN         NaN         NaN       NaN   \n",
       "97       0            NaN        NaN         NaN         NaN       NaN   \n",
       "98       0            NaN        NaN         NaN         NaN       NaN   \n",
       "99       0            NaN        NaN         NaN         NaN       NaN   \n",
       "\n",
       "    Temperature Weather PlayType  PlayerGamePlay Position PositionGroup  \n",
       "49          NaN     NaN      NaN             NaN      NaN           NaN  \n",
       "51          NaN     NaN      NaN             NaN      NaN           NaN  \n",
       "52          NaN     NaN      NaN             NaN      NaN           NaN  \n",
       "96          NaN     NaN      NaN             NaN      NaN           NaN  \n",
       "97          NaN     NaN      NaN             NaN      NaN           NaN  \n",
       "98          NaN     NaN      NaN             NaN      NaN           NaN  \n",
       "99          NaN     NaN      NaN             NaN      NaN           NaN  "
      ]
     },
     "execution_count": 29,
     "metadata": {},
     "output_type": "execute_result"
    }
   ],
   "source": [
    "inj_play[inj_play['BodyPart'] == 'Toes']"
   ]
  },
  {
   "cell_type": "code",
   "execution_count": 30,
   "metadata": {
    "execution": {
     "iopub.execute_input": "2022-07-31T13:16:01.787783Z",
     "iopub.status.busy": "2022-07-31T13:16:01.785804Z",
     "iopub.status.idle": "2022-07-31T13:16:01.807672Z",
     "shell.execute_reply": "2022-07-31T13:16:01.806435Z",
     "shell.execute_reply.started": "2022-07-31T13:16:01.787714Z"
    }
   },
   "outputs": [
    {
     "data": {
      "text/html": [
       "<div>\n",
       "<style scoped>\n",
       "    .dataframe tbody tr th:only-of-type {\n",
       "        vertical-align: middle;\n",
       "    }\n",
       "\n",
       "    .dataframe tbody tr th {\n",
       "        vertical-align: top;\n",
       "    }\n",
       "\n",
       "    .dataframe thead th {\n",
       "        text-align: right;\n",
       "    }\n",
       "</style>\n",
       "<table border=\"1\" class=\"dataframe\">\n",
       "  <thead>\n",
       "    <tr style=\"text-align: right;\">\n",
       "      <th></th>\n",
       "      <th>PlayerKey</th>\n",
       "      <th>GameID</th>\n",
       "      <th>PlayKey</th>\n",
       "      <th>BodyPart</th>\n",
       "      <th>Surface</th>\n",
       "      <th>DM_M1</th>\n",
       "      <th>DM_M7</th>\n",
       "      <th>DM_M28</th>\n",
       "      <th>DM_M42</th>\n",
       "    </tr>\n",
       "  </thead>\n",
       "  <tbody>\n",
       "    <tr>\n",
       "      <th>49</th>\n",
       "      <td>45950</td>\n",
       "      <td>45950-6</td>\n",
       "      <td>NaN</td>\n",
       "      <td>Toes</td>\n",
       "      <td>Synthetic</td>\n",
       "      <td>1</td>\n",
       "      <td>1</td>\n",
       "      <td>0</td>\n",
       "      <td>0</td>\n",
       "    </tr>\n",
       "    <tr>\n",
       "      <th>51</th>\n",
       "      <td>38253</td>\n",
       "      <td>38253-10</td>\n",
       "      <td>NaN</td>\n",
       "      <td>Toes</td>\n",
       "      <td>Synthetic</td>\n",
       "      <td>1</td>\n",
       "      <td>1</td>\n",
       "      <td>1</td>\n",
       "      <td>0</td>\n",
       "    </tr>\n",
       "    <tr>\n",
       "      <th>52</th>\n",
       "      <td>38214</td>\n",
       "      <td>38214-12</td>\n",
       "      <td>NaN</td>\n",
       "      <td>Toes</td>\n",
       "      <td>Synthetic</td>\n",
       "      <td>1</td>\n",
       "      <td>0</td>\n",
       "      <td>0</td>\n",
       "      <td>0</td>\n",
       "    </tr>\n",
       "    <tr>\n",
       "      <th>96</th>\n",
       "      <td>47196</td>\n",
       "      <td>47196-7</td>\n",
       "      <td>NaN</td>\n",
       "      <td>Toes</td>\n",
       "      <td>Synthetic</td>\n",
       "      <td>1</td>\n",
       "      <td>1</td>\n",
       "      <td>0</td>\n",
       "      <td>0</td>\n",
       "    </tr>\n",
       "    <tr>\n",
       "      <th>97</th>\n",
       "      <td>45975</td>\n",
       "      <td>45975-23</td>\n",
       "      <td>NaN</td>\n",
       "      <td>Toes</td>\n",
       "      <td>Natural</td>\n",
       "      <td>1</td>\n",
       "      <td>1</td>\n",
       "      <td>0</td>\n",
       "      <td>0</td>\n",
       "    </tr>\n",
       "    <tr>\n",
       "      <th>98</th>\n",
       "      <td>47273</td>\n",
       "      <td>47273-10</td>\n",
       "      <td>NaN</td>\n",
       "      <td>Toes</td>\n",
       "      <td>Synthetic</td>\n",
       "      <td>1</td>\n",
       "      <td>0</td>\n",
       "      <td>0</td>\n",
       "      <td>0</td>\n",
       "    </tr>\n",
       "    <tr>\n",
       "      <th>99</th>\n",
       "      <td>40405</td>\n",
       "      <td>40405-29</td>\n",
       "      <td>NaN</td>\n",
       "      <td>Toes</td>\n",
       "      <td>Synthetic</td>\n",
       "      <td>1</td>\n",
       "      <td>1</td>\n",
       "      <td>0</td>\n",
       "      <td>0</td>\n",
       "    </tr>\n",
       "  </tbody>\n",
       "</table>\n",
       "</div>"
      ],
      "text/plain": [
       "    PlayerKey    GameID PlayKey BodyPart    Surface  DM_M1  DM_M7  DM_M28  \\\n",
       "49      45950   45950-6     NaN     Toes  Synthetic      1      1       0   \n",
       "51      38253  38253-10     NaN     Toes  Synthetic      1      1       1   \n",
       "52      38214  38214-12     NaN     Toes  Synthetic      1      0       0   \n",
       "96      47196   47196-7     NaN     Toes  Synthetic      1      1       0   \n",
       "97      45975  45975-23     NaN     Toes    Natural      1      1       0   \n",
       "98      47273  47273-10     NaN     Toes  Synthetic      1      0       0   \n",
       "99      40405  40405-29     NaN     Toes  Synthetic      1      1       0   \n",
       "\n",
       "    DM_M42  \n",
       "49       0  \n",
       "51       0  \n",
       "52       0  \n",
       "96       0  \n",
       "97       0  \n",
       "98       0  \n",
       "99       0  "
      ]
     },
     "execution_count": 30,
     "metadata": {},
     "output_type": "execute_result"
    }
   ],
   "source": [
    "injuries[injuries['BodyPart'] == 'Toes']"
   ]
  },
  {
   "cell_type": "markdown",
   "metadata": {},
   "source": [
    "Changes in movement pattern across the surface. "
   ]
  },
  {
   "cell_type": "markdown",
   "metadata": {},
   "source": [
    "Number of injuries across days and player game. "
   ]
  },
  {
   "cell_type": "markdown",
   "metadata": {},
   "source": [
    "Model the time until injury and see if this changes across field types, use a hazard rate model and see if the rate changes. "
   ]
  },
  {
   "cell_type": "markdown",
   "metadata": {},
   "source": [
    "# Hazard Rate Model\n",
    "\n",
    "For further details on the concept and definitions of Hazard Rate Models refer to this blog post.\n",
    "\n",
    "https://towardsdatascience.com/survival-analysis-intuition-implementation-in-python-504fde4fcf8e\n",
    "\n",
    "\n",
    "## Kaplan-Meier Estimate"
   ]
  },
  {
   "cell_type": "code",
   "execution_count": 31,
   "metadata": {
    "execution": {
     "iopub.execute_input": "2022-07-31T13:18:44.320425Z",
     "iopub.status.busy": "2022-07-31T13:18:44.320071Z",
     "iopub.status.idle": "2022-07-31T13:19:39.375403Z",
     "shell.execute_reply": "2022-07-31T13:19:39.374345Z",
     "shell.execute_reply.started": "2022-07-31T13:18:44.320364Z"
    }
   },
   "outputs": [
    {
     "name": "stdout",
     "output_type": "stream",
     "text": [
      "Collecting lifelines\n",
      "  Downloading lifelines-0.27.1-py3-none-any.whl (349 kB)\n",
      "Collecting autograd>=1.3\n",
      "  Downloading autograd-1.4-py3-none-any.whl (48 kB)\n",
      "Requirement already satisfied: pandas>=1.0.0 in d:\\anaconda\\lib\\site-packages (from lifelines) (1.0.5)\n",
      "Requirement already satisfied: matplotlib>=3.0 in d:\\anaconda\\lib\\site-packages (from lifelines) (3.2.2)\n",
      "Requirement already satisfied: scipy>=1.2.0 in d:\\anaconda\\lib\\site-packages (from lifelines) (1.5.0)\n",
      "Requirement already satisfied: numpy>=1.14.0 in d:\\anaconda\\lib\\site-packages (from lifelines) (1.18.5)\n",
      "Collecting formulaic>=0.2.2\n",
      "  Downloading formulaic-0.4.0-py3-none-any.whl (76 kB)\n",
      "Collecting autograd-gamma>=0.3\n",
      "  Downloading autograd-gamma-0.5.0.tar.gz (4.0 kB)\n",
      "Requirement already satisfied: future>=0.15.2 in d:\\anaconda\\lib\\site-packages (from autograd>=1.3->lifelines) (0.18.2)\n",
      "Requirement already satisfied: pytz>=2017.2 in d:\\anaconda\\lib\\site-packages (from pandas>=1.0.0->lifelines) (2020.1)\n",
      "Requirement already satisfied: python-dateutil>=2.6.1 in d:\\anaconda\\lib\\site-packages (from pandas>=1.0.0->lifelines) (2.8.1)\n",
      "Requirement already satisfied: pyparsing!=2.0.4,!=2.1.2,!=2.1.6,>=2.0.1 in d:\\anaconda\\lib\\site-packages (from matplotlib>=3.0->lifelines) (2.4.7)\n",
      "Requirement already satisfied: kiwisolver>=1.0.1 in d:\\anaconda\\lib\\site-packages (from matplotlib>=3.0->lifelines) (1.2.0)\n",
      "Requirement already satisfied: cycler>=0.10 in d:\\anaconda\\lib\\site-packages (from matplotlib>=3.0->lifelines) (0.10.0)\n",
      "Requirement already satisfied: wrapt>=1.0 in c:\\users\\prajwal\\appdata\\roaming\\python\\python38\\site-packages (from formulaic>=0.2.2->lifelines) (1.11.2)\n",
      "Collecting interface-meta<2.0.0,>=1.2.0\n",
      "  Downloading interface_meta-1.3.0-py3-none-any.whl (14 kB)\n",
      "Collecting typing-extensions<5.0.0,>=4.2.0\n",
      "  Downloading typing_extensions-4.3.0-py3-none-any.whl (25 kB)\n",
      "Collecting graphlib-backport<2.0.0,>=1.0.0; python_version < \"3.9\"\n",
      "  Downloading graphlib_backport-1.0.3-py3-none-any.whl (5.1 kB)\n",
      "Collecting astor>=0.8\n",
      "  Downloading astor-0.8.1-py2.py3-none-any.whl (27 kB)\n",
      "Requirement already satisfied: six>=1.5 in d:\\anaconda\\lib\\site-packages (from python-dateutil>=2.6.1->pandas>=1.0.0->lifelines) (1.15.0)\n",
      "Building wheels for collected packages: autograd-gamma\n",
      "  Building wheel for autograd-gamma (setup.py): started\n",
      "  Building wheel for autograd-gamma (setup.py): finished with status 'done'\n",
      "  Created wheel for autograd-gamma: filename=autograd_gamma-0.5.0-py3-none-any.whl size=4039 sha256=4141b118e7d456e932de43726b67d0aea68e2db0de78a88d81187f712517e63c\n",
      "  Stored in directory: c:\\users\\prajwal\\appdata\\local\\pip\\cache\\wheels\\16\\a2\\b6\\582cfdfbeeccd469504a01af3bb952fd9e7eccba40995eafea\n",
      "Successfully built autograd-gamma\n",
      "Installing collected packages: autograd, interface-meta, typing-extensions, graphlib-backport, astor, formulaic, autograd-gamma, lifelines\n",
      "  Attempting uninstall: typing-extensions\n",
      "    Found existing installation: typing-extensions 3.10.0.0\n",
      "    Uninstalling typing-extensions-3.10.0.0:\n",
      "      Successfully uninstalled typing-extensions-3.10.0.0\n",
      "Successfully installed astor-0.8.1 autograd-1.4 autograd-gamma-0.5.0 formulaic-0.4.0 graphlib-backport-1.0.3 interface-meta-1.3.0 lifelines-0.27.1 typing-extensions-4.3.0\n"
     ]
    },
    {
     "name": "stderr",
     "output_type": "stream",
     "text": [
      "ERROR: formulaic 0.4.0 has requirement scipy>=1.6, but you'll have scipy 1.5.0 which is incompatible.\n"
     ]
    }
   ],
   "source": [
    "!pip install lifelines"
   ]
  },
  {
   "cell_type": "code",
   "execution_count": 32,
   "metadata": {
    "execution": {
     "iopub.execute_input": "2022-07-31T13:19:41.733356Z",
     "iopub.status.busy": "2022-07-31T13:19:41.732910Z",
     "iopub.status.idle": "2022-07-31T13:19:42.132432Z",
     "shell.execute_reply": "2022-07-31T13:19:42.131367Z",
     "shell.execute_reply.started": "2022-07-31T13:19:41.733195Z"
    }
   },
   "outputs": [
    {
     "data": {
      "image/png": "[encoded data removed]",
      "text/plain": [
       "<Figure size 432x288 with 1 Axes>"
      ]
     },
     "metadata": {
      "needs_background": "light"
     },
     "output_type": "display_data"
    }
   ],
   "source": [
    "from lifelines import KaplanMeierFitter\n",
    "\n",
    "##Natural Turf\n",
    "## Example Data \n",
    "durations = list(range(int(max(inj_nat_play['PlayerDay'].dropna()))+1))\n",
    "event_observed = [1 if dur in inj_nat_play['PlayerDay'] else 0 for dur in durations]\n",
    "\n",
    "## create a kmf object\n",
    "kmf = KaplanMeierFitter() \n",
    "\n",
    "## Fit the data into the model\n",
    "kmf.fit(durations, event_observed,label='Natural')\n",
    "\n",
    "## Create an estimate\n",
    "a1 = kmf.plot(ci_show=False) ## ci_show is meant for Confidence interval, since our data set is too tiny, thus i am not showing it."
   ]
  },
  {
   "cell_type": "code",
   "execution_count": 33,
   "metadata": {
    "execution": {
     "iopub.execute_input": "2022-07-31T13:20:29.588527Z",
     "iopub.status.busy": "2022-07-31T13:20:29.588213Z",
     "iopub.status.idle": "2022-07-31T13:20:29.924865Z",
     "shell.execute_reply": "2022-07-31T13:20:29.923562Z",
     "shell.execute_reply.started": "2022-07-31T13:20:29.588479Z"
    }
   },
   "outputs": [
    {
     "data": {
      "text/plain": [
       "<matplotlib.axes._subplots.AxesSubplot at 0x22fbd845730>"
      ]
     },
     "execution_count": 33,
     "metadata": {},
     "output_type": "execute_result"
    },
    {
     "data": {
      "image/png": "[encoded data removed]",
      "text/plain": [
       "<Figure size 432x288 with 1 Axes>"
      ]
     },
     "metadata": {
      "needs_background": "light"
     },
     "output_type": "display_data"
    }
   ],
   "source": [
    "##Artificial Turf\n",
    "## Example Data \n",
    "durations = list(range(int(max(inj_tur_play['PlayerDay'].dropna()))+1))\n",
    "event_observed = [1 if dur in inj_tur_play['PlayerDay'] else 0 for dur in durations]\n",
    "\n",
    "\n",
    "## Fit the data into the model\n",
    "kmf.fit(durations, event_observed,label='Artificial')\n",
    "\n",
    "## Create an estimate\n",
    "kmf.plot() ## ci_show is meant for Confidence interval, since our data set is too tiny, thus i am not showing it."
   ]
  },
  {
   "cell_type": "markdown",
   "metadata": {},
   "source": [
    "# Cox Proportional Hazard Model"
   ]
  },
  {
   "cell_type": "code",
   "execution_count": 34,
   "metadata": {
    "execution": {
     "iopub.execute_input": "2022-07-31T13:20:38.690074Z",
     "iopub.status.busy": "2022-07-31T13:20:38.689778Z",
     "iopub.status.idle": "2022-07-31T13:20:38.735712Z",
     "shell.execute_reply": "2022-07-31T13:20:38.734740Z",
     "shell.execute_reply.started": "2022-07-31T13:20:38.690026Z"
    }
   },
   "outputs": [
    {
     "data": {
      "text/html": [
       "<div>\n",
       "<style scoped>\n",
       "    .dataframe tbody tr th:only-of-type {\n",
       "        vertical-align: middle;\n",
       "    }\n",
       "\n",
       "    .dataframe tbody tr th {\n",
       "        vertical-align: top;\n",
       "    }\n",
       "\n",
       "    .dataframe thead th {\n",
       "        text-align: right;\n",
       "    }\n",
       "</style>\n",
       "<table border=\"1\" class=\"dataframe\">\n",
       "  <thead>\n",
       "    <tr style=\"text-align: right;\">\n",
       "      <th></th>\n",
       "      <th>PlayerKey</th>\n",
       "      <th>DM_M1</th>\n",
       "      <th>DM_M7</th>\n",
       "      <th>DM_M28</th>\n",
       "      <th>DM_M42</th>\n",
       "      <th>PlayerDay</th>\n",
       "      <th>PlayerGame</th>\n",
       "      <th>Temperature</th>\n",
       "      <th>PlayerGamePlay</th>\n",
       "      <th>GameID_31933-20</th>\n",
       "      <th>...</th>\n",
       "      <th>Position_SS</th>\n",
       "      <th>Position_T</th>\n",
       "      <th>Position_TE</th>\n",
       "      <th>Position_WR</th>\n",
       "      <th>PositionGroup_DL</th>\n",
       "      <th>PositionGroup_LB</th>\n",
       "      <th>PositionGroup_OL</th>\n",
       "      <th>PositionGroup_RB</th>\n",
       "      <th>PositionGroup_TE</th>\n",
       "      <th>PositionGroup_WR</th>\n",
       "    </tr>\n",
       "  </thead>\n",
       "  <tbody>\n",
       "    <tr>\n",
       "      <th>0</th>\n",
       "      <td>39873</td>\n",
       "      <td>1</td>\n",
       "      <td>1</td>\n",
       "      <td>1</td>\n",
       "      <td>1</td>\n",
       "      <td>29.0</td>\n",
       "      <td>4.0</td>\n",
       "      <td>84.0</td>\n",
       "      <td>32.0</td>\n",
       "      <td>0</td>\n",
       "      <td>...</td>\n",
       "      <td>0</td>\n",
       "      <td>0</td>\n",
       "      <td>0</td>\n",
       "      <td>0</td>\n",
       "      <td>0</td>\n",
       "      <td>1</td>\n",
       "      <td>0</td>\n",
       "      <td>0</td>\n",
       "      <td>0</td>\n",
       "      <td>0</td>\n",
       "    </tr>\n",
       "    <tr>\n",
       "      <th>1</th>\n",
       "      <td>46074</td>\n",
       "      <td>1</td>\n",
       "      <td>1</td>\n",
       "      <td>0</td>\n",
       "      <td>0</td>\n",
       "      <td>50.0</td>\n",
       "      <td>7.0</td>\n",
       "      <td>76.0</td>\n",
       "      <td>26.0</td>\n",
       "      <td>0</td>\n",
       "      <td>...</td>\n",
       "      <td>0</td>\n",
       "      <td>0</td>\n",
       "      <td>0</td>\n",
       "      <td>0</td>\n",
       "      <td>0</td>\n",
       "      <td>1</td>\n",
       "      <td>0</td>\n",
       "      <td>0</td>\n",
       "      <td>0</td>\n",
       "      <td>0</td>\n",
       "    </tr>\n",
       "    <tr>\n",
       "      <th>2</th>\n",
       "      <td>36557</td>\n",
       "      <td>1</td>\n",
       "      <td>1</td>\n",
       "      <td>1</td>\n",
       "      <td>1</td>\n",
       "      <td>1.0</td>\n",
       "      <td>1.0</td>\n",
       "      <td>63.0</td>\n",
       "      <td>70.0</td>\n",
       "      <td>0</td>\n",
       "      <td>...</td>\n",
       "      <td>1</td>\n",
       "      <td>0</td>\n",
       "      <td>0</td>\n",
       "      <td>0</td>\n",
       "      <td>0</td>\n",
       "      <td>0</td>\n",
       "      <td>0</td>\n",
       "      <td>0</td>\n",
       "      <td>0</td>\n",
       "      <td>0</td>\n",
       "    </tr>\n",
       "    <tr>\n",
       "      <th>3</th>\n",
       "      <td>46646</td>\n",
       "      <td>1</td>\n",
       "      <td>0</td>\n",
       "      <td>0</td>\n",
       "      <td>0</td>\n",
       "      <td>15.0</td>\n",
       "      <td>3.0</td>\n",
       "      <td>80.0</td>\n",
       "      <td>30.0</td>\n",
       "      <td>0</td>\n",
       "      <td>...</td>\n",
       "      <td>0</td>\n",
       "      <td>0</td>\n",
       "      <td>0</td>\n",
       "      <td>0</td>\n",
       "      <td>0</td>\n",
       "      <td>1</td>\n",
       "      <td>0</td>\n",
       "      <td>0</td>\n",
       "      <td>0</td>\n",
       "      <td>0</td>\n",
       "    </tr>\n",
       "    <tr>\n",
       "      <th>4</th>\n",
       "      <td>43532</td>\n",
       "      <td>1</td>\n",
       "      <td>1</td>\n",
       "      <td>1</td>\n",
       "      <td>1</td>\n",
       "      <td>32.0</td>\n",
       "      <td>5.0</td>\n",
       "      <td>89.0</td>\n",
       "      <td>69.0</td>\n",
       "      <td>0</td>\n",
       "      <td>...</td>\n",
       "      <td>0</td>\n",
       "      <td>0</td>\n",
       "      <td>0</td>\n",
       "      <td>1</td>\n",
       "      <td>0</td>\n",
       "      <td>0</td>\n",
       "      <td>0</td>\n",
       "      <td>0</td>\n",
       "      <td>0</td>\n",
       "      <td>1</td>\n",
       "    </tr>\n",
       "  </tbody>\n",
       "</table>\n",
       "<p>5 rows × 264 columns</p>\n",
       "</div>"
      ],
      "text/plain": [
       "   PlayerKey  DM_M1  DM_M7  DM_M28  DM_M42  PlayerDay  PlayerGame  \\\n",
       "0      39873      1      1       1       1       29.0         4.0   \n",
       "1      46074      1      1       0       0       50.0         7.0   \n",
       "2      36557      1      1       1       1        1.0         1.0   \n",
       "3      46646      1      0       0       0       15.0         3.0   \n",
       "4      43532      1      1       1       1       32.0         5.0   \n",
       "\n",
       "   Temperature  PlayerGamePlay  GameID_31933-20  ...  Position_SS  Position_T  \\\n",
       "0         84.0            32.0                0  ...            0           0   \n",
       "1         76.0            26.0                0  ...            0           0   \n",
       "2         63.0            70.0                0  ...            1           0   \n",
       "3         80.0            30.0                0  ...            0           0   \n",
       "4         89.0            69.0                0  ...            0           0   \n",
       "\n",
       "   Position_TE  Position_WR  PositionGroup_DL  PositionGroup_LB  \\\n",
       "0            0            0                 0                 1   \n",
       "1            0            0                 0                 1   \n",
       "2            0            0                 0                 0   \n",
       "3            0            0                 0                 1   \n",
       "4            0            1                 0                 0   \n",
       "\n",
       "   PositionGroup_OL  PositionGroup_RB  PositionGroup_TE  PositionGroup_WR  \n",
       "0                 0                 0                 0                 0  \n",
       "1                 0                 0                 0                 0  \n",
       "2                 0                 0                 0                 0  \n",
       "3                 0                 0                 0                 0  \n",
       "4                 0                 0                 0                 1  \n",
       "\n",
       "[5 rows x 264 columns]"
      ]
     },
     "execution_count": 34,
     "metadata": {},
     "output_type": "execute_result"
    }
   ],
   "source": [
    "df_dummy = pd.get_dummies(inj_play, drop_first=True)\n",
    "df_dummy.head()"
   ]
  },
  {
   "cell_type": "code",
   "execution_count": 35,
   "metadata": {
    "execution": {
     "iopub.execute_input": "2022-07-31T13:20:42.178333Z",
     "iopub.status.busy": "2022-07-31T13:20:42.177996Z",
     "iopub.status.idle": "2022-07-31T13:20:42.184398Z",
     "shell.execute_reply": "2022-07-31T13:20:42.183717Z",
     "shell.execute_reply.started": "2022-07-31T13:20:42.178271Z"
    }
   },
   "outputs": [],
   "source": [
    "from lifelines import CoxPHFitter"
   ]
  },
  {
   "cell_type": "code",
   "execution_count": 36,
   "metadata": {
    "execution": {
     "iopub.execute_input": "2022-07-31T13:20:44.806758Z",
     "iopub.status.busy": "2022-07-31T13:20:44.806268Z",
     "iopub.status.idle": "2022-07-31T13:20:45.000414Z",
     "shell.execute_reply": "2022-07-31T13:20:44.999446Z",
     "shell.execute_reply.started": "2022-07-31T13:20:44.806690Z"
    }
   },
   "outputs": [],
   "source": [
    "dummy = pd.Series(playlist[['PlayerKey', 'GameID', 'PlayKey']].itertuples(index=False, name=None)).isin(injuries[['PlayerKey', 'GameID', 'PlayKey']].itertuples(index=False, name=None))*1"
   ]
  },
  {
   "cell_type": "code",
   "execution_count": 37,
   "metadata": {
    "execution": {
     "iopub.execute_input": "2022-07-31T13:20:46.425765Z",
     "iopub.status.busy": "2022-07-31T13:20:46.425472Z",
     "iopub.status.idle": "2022-07-31T13:20:46.431327Z",
     "shell.execute_reply": "2022-07-31T13:20:46.430326Z",
     "shell.execute_reply.started": "2022-07-31T13:20:46.425717Z"
    }
   },
   "outputs": [],
   "source": [
    "playlist['inj_ind'] = dummy"
   ]
  },
  {
   "cell_type": "code",
   "execution_count": 38,
   "metadata": {
    "execution": {
     "iopub.execute_input": "2022-07-31T13:20:48.111886Z",
     "iopub.status.busy": "2022-07-31T13:20:48.111398Z",
     "iopub.status.idle": "2022-07-31T13:20:48.128723Z",
     "shell.execute_reply": "2022-07-31T13:20:48.127895Z",
     "shell.execute_reply.started": "2022-07-31T13:20:48.111822Z"
    }
   },
   "outputs": [
    {
     "data": {
      "text/html": [
       "<div>\n",
       "<style scoped>\n",
       "    .dataframe tbody tr th:only-of-type {\n",
       "        vertical-align: middle;\n",
       "    }\n",
       "\n",
       "    .dataframe tbody tr th {\n",
       "        vertical-align: top;\n",
       "    }\n",
       "\n",
       "    .dataframe thead th {\n",
       "        text-align: right;\n",
       "    }\n",
       "</style>\n",
       "<table border=\"1\" class=\"dataframe\">\n",
       "  <thead>\n",
       "    <tr style=\"text-align: right;\">\n",
       "      <th></th>\n",
       "      <th>PlayerKey</th>\n",
       "      <th>GameID</th>\n",
       "      <th>PlayKey</th>\n",
       "      <th>RosterPosition</th>\n",
       "      <th>PlayerDay</th>\n",
       "      <th>PlayerGame</th>\n",
       "      <th>StadiumType</th>\n",
       "      <th>FieldType</th>\n",
       "      <th>Temperature</th>\n",
       "      <th>Weather</th>\n",
       "      <th>PlayType</th>\n",
       "      <th>PlayerGamePlay</th>\n",
       "      <th>Position</th>\n",
       "      <th>PositionGroup</th>\n",
       "      <th>inj_ind</th>\n",
       "    </tr>\n",
       "  </thead>\n",
       "  <tbody>\n",
       "    <tr>\n",
       "      <th>0</th>\n",
       "      <td>26624</td>\n",
       "      <td>26624-1</td>\n",
       "      <td>26624-1-1</td>\n",
       "      <td>Quarterback</td>\n",
       "      <td>1</td>\n",
       "      <td>1</td>\n",
       "      <td>Outdoor</td>\n",
       "      <td>Synthetic</td>\n",
       "      <td>63</td>\n",
       "      <td>Clear and warm</td>\n",
       "      <td>Pass</td>\n",
       "      <td>1</td>\n",
       "      <td>QB</td>\n",
       "      <td>QB</td>\n",
       "      <td>0</td>\n",
       "    </tr>\n",
       "    <tr>\n",
       "      <th>1</th>\n",
       "      <td>26624</td>\n",
       "      <td>26624-1</td>\n",
       "      <td>26624-1-2</td>\n",
       "      <td>Quarterback</td>\n",
       "      <td>1</td>\n",
       "      <td>1</td>\n",
       "      <td>Outdoor</td>\n",
       "      <td>Synthetic</td>\n",
       "      <td>63</td>\n",
       "      <td>Clear and warm</td>\n",
       "      <td>Pass</td>\n",
       "      <td>2</td>\n",
       "      <td>QB</td>\n",
       "      <td>QB</td>\n",
       "      <td>0</td>\n",
       "    </tr>\n",
       "    <tr>\n",
       "      <th>2</th>\n",
       "      <td>26624</td>\n",
       "      <td>26624-1</td>\n",
       "      <td>26624-1-3</td>\n",
       "      <td>Quarterback</td>\n",
       "      <td>1</td>\n",
       "      <td>1</td>\n",
       "      <td>Outdoor</td>\n",
       "      <td>Synthetic</td>\n",
       "      <td>63</td>\n",
       "      <td>Clear and warm</td>\n",
       "      <td>Rush</td>\n",
       "      <td>3</td>\n",
       "      <td>QB</td>\n",
       "      <td>QB</td>\n",
       "      <td>0</td>\n",
       "    </tr>\n",
       "    <tr>\n",
       "      <th>3</th>\n",
       "      <td>26624</td>\n",
       "      <td>26624-1</td>\n",
       "      <td>26624-1-4</td>\n",
       "      <td>Quarterback</td>\n",
       "      <td>1</td>\n",
       "      <td>1</td>\n",
       "      <td>Outdoor</td>\n",
       "      <td>Synthetic</td>\n",
       "      <td>63</td>\n",
       "      <td>Clear and warm</td>\n",
       "      <td>Rush</td>\n",
       "      <td>4</td>\n",
       "      <td>QB</td>\n",
       "      <td>QB</td>\n",
       "      <td>0</td>\n",
       "    </tr>\n",
       "    <tr>\n",
       "      <th>4</th>\n",
       "      <td>26624</td>\n",
       "      <td>26624-1</td>\n",
       "      <td>26624-1-5</td>\n",
       "      <td>Quarterback</td>\n",
       "      <td>1</td>\n",
       "      <td>1</td>\n",
       "      <td>Outdoor</td>\n",
       "      <td>Synthetic</td>\n",
       "      <td>63</td>\n",
       "      <td>Clear and warm</td>\n",
       "      <td>Pass</td>\n",
       "      <td>5</td>\n",
       "      <td>QB</td>\n",
       "      <td>QB</td>\n",
       "      <td>0</td>\n",
       "    </tr>\n",
       "  </tbody>\n",
       "</table>\n",
       "</div>"
      ],
      "text/plain": [
       "   PlayerKey   GameID    PlayKey RosterPosition  PlayerDay  PlayerGame  \\\n",
       "0      26624  26624-1  26624-1-1    Quarterback          1           1   \n",
       "1      26624  26624-1  26624-1-2    Quarterback          1           1   \n",
       "2      26624  26624-1  26624-1-3    Quarterback          1           1   \n",
       "3      26624  26624-1  26624-1-4    Quarterback          1           1   \n",
       "4      26624  26624-1  26624-1-5    Quarterback          1           1   \n",
       "\n",
       "  StadiumType  FieldType  Temperature         Weather PlayType  \\\n",
       "0     Outdoor  Synthetic           63  Clear and warm     Pass   \n",
       "1     Outdoor  Synthetic           63  Clear and warm     Pass   \n",
       "2     Outdoor  Synthetic           63  Clear and warm     Rush   \n",
       "3     Outdoor  Synthetic           63  Clear and warm     Rush   \n",
       "4     Outdoor  Synthetic           63  Clear and warm     Pass   \n",
       "\n",
       "   PlayerGamePlay Position PositionGroup  inj_ind  \n",
       "0               1       QB            QB        0  \n",
       "1               2       QB            QB        0  \n",
       "2               3       QB            QB        0  \n",
       "3               4       QB            QB        0  \n",
       "4               5       QB            QB        0  "
      ]
     },
     "execution_count": 38,
     "metadata": {},
     "output_type": "execute_result"
    }
   ],
   "source": [
    "playlist.head()"
   ]
  },
  {
   "cell_type": "code",
   "execution_count": 39,
   "metadata": {
    "execution": {
     "iopub.execute_input": "2022-07-31T13:20:50.970596Z",
     "iopub.status.busy": "2022-07-31T13:20:50.970066Z",
     "iopub.status.idle": "2022-07-31T13:20:51.127280Z",
     "shell.execute_reply": "2022-07-31T13:20:51.126315Z",
     "shell.execute_reply.started": "2022-07-31T13:20:50.970344Z"
    }
   },
   "outputs": [],
   "source": [
    "playlist.StadiumType = pd.Categorical(playlist.StadiumType)\n",
    "playlist['StadiumType_c'] = playlist.StadiumType.cat.codes\n",
    "playlist.FieldType = pd.Categorical(playlist.FieldType)\n",
    "playlist['FieldType_c'] = playlist.FieldType.cat.codes\n",
    "playlist.Weather = pd.Categorical(playlist.Weather)\n",
    "playlist['Weather_c'] = playlist.Weather.cat.codes\n",
    "playlist.PlayType = pd.Categorical(playlist.PlayType)\n",
    "playlist['PlayType_c'] = playlist.PlayType.cat.codes\n",
    "playlist.Position = pd.Categorical(playlist.Position)\n",
    "playlist['Position_c'] = playlist.Position.cat.codes"
   ]
  },
  {
   "cell_type": "code",
   "execution_count": 40,
   "metadata": {
    "execution": {
     "iopub.execute_input": "2022-07-31T13:20:54.039715Z",
     "iopub.status.busy": "2022-07-31T13:20:54.039411Z",
     "iopub.status.idle": "2022-07-31T13:20:54.063336Z",
     "shell.execute_reply": "2022-07-31T13:20:54.062462Z",
     "shell.execute_reply.started": "2022-07-31T13:20:54.039666Z"
    }
   },
   "outputs": [
    {
     "data": {
      "text/html": [
       "<div>\n",
       "<style scoped>\n",
       "    .dataframe tbody tr th:only-of-type {\n",
       "        vertical-align: middle;\n",
       "    }\n",
       "\n",
       "    .dataframe tbody tr th {\n",
       "        vertical-align: top;\n",
       "    }\n",
       "\n",
       "    .dataframe thead th {\n",
       "        text-align: right;\n",
       "    }\n",
       "</style>\n",
       "<table border=\"1\" class=\"dataframe\">\n",
       "  <thead>\n",
       "    <tr style=\"text-align: right;\">\n",
       "      <th></th>\n",
       "      <th>PlayerKey</th>\n",
       "      <th>GameID</th>\n",
       "      <th>PlayKey</th>\n",
       "      <th>RosterPosition</th>\n",
       "      <th>PlayerDay</th>\n",
       "      <th>PlayerGame</th>\n",
       "      <th>StadiumType</th>\n",
       "      <th>FieldType</th>\n",
       "      <th>Temperature</th>\n",
       "      <th>Weather</th>\n",
       "      <th>PlayType</th>\n",
       "      <th>PlayerGamePlay</th>\n",
       "      <th>Position</th>\n",
       "      <th>PositionGroup</th>\n",
       "      <th>inj_ind</th>\n",
       "      <th>StadiumType_c</th>\n",
       "      <th>FieldType_c</th>\n",
       "      <th>Weather_c</th>\n",
       "      <th>PlayType_c</th>\n",
       "      <th>Position_c</th>\n",
       "    </tr>\n",
       "  </thead>\n",
       "  <tbody>\n",
       "    <tr>\n",
       "      <th>0</th>\n",
       "      <td>26624</td>\n",
       "      <td>26624-1</td>\n",
       "      <td>26624-1-1</td>\n",
       "      <td>Quarterback</td>\n",
       "      <td>1</td>\n",
       "      <td>1</td>\n",
       "      <td>Outdoor</td>\n",
       "      <td>Synthetic</td>\n",
       "      <td>63</td>\n",
       "      <td>Clear and warm</td>\n",
       "      <td>Pass</td>\n",
       "      <td>1</td>\n",
       "      <td>QB</td>\n",
       "      <td>QB</td>\n",
       "      <td>0</td>\n",
       "      <td>18</td>\n",
       "      <td>1</td>\n",
       "      <td>8</td>\n",
       "      <td>6</td>\n",
       "      <td>16</td>\n",
       "    </tr>\n",
       "    <tr>\n",
       "      <th>1</th>\n",
       "      <td>26624</td>\n",
       "      <td>26624-1</td>\n",
       "      <td>26624-1-2</td>\n",
       "      <td>Quarterback</td>\n",
       "      <td>1</td>\n",
       "      <td>1</td>\n",
       "      <td>Outdoor</td>\n",
       "      <td>Synthetic</td>\n",
       "      <td>63</td>\n",
       "      <td>Clear and warm</td>\n",
       "      <td>Pass</td>\n",
       "      <td>2</td>\n",
       "      <td>QB</td>\n",
       "      <td>QB</td>\n",
       "      <td>0</td>\n",
       "      <td>18</td>\n",
       "      <td>1</td>\n",
       "      <td>8</td>\n",
       "      <td>6</td>\n",
       "      <td>16</td>\n",
       "    </tr>\n",
       "    <tr>\n",
       "      <th>2</th>\n",
       "      <td>26624</td>\n",
       "      <td>26624-1</td>\n",
       "      <td>26624-1-3</td>\n",
       "      <td>Quarterback</td>\n",
       "      <td>1</td>\n",
       "      <td>1</td>\n",
       "      <td>Outdoor</td>\n",
       "      <td>Synthetic</td>\n",
       "      <td>63</td>\n",
       "      <td>Clear and warm</td>\n",
       "      <td>Rush</td>\n",
       "      <td>3</td>\n",
       "      <td>QB</td>\n",
       "      <td>QB</td>\n",
       "      <td>0</td>\n",
       "      <td>18</td>\n",
       "      <td>1</td>\n",
       "      <td>8</td>\n",
       "      <td>10</td>\n",
       "      <td>16</td>\n",
       "    </tr>\n",
       "    <tr>\n",
       "      <th>3</th>\n",
       "      <td>26624</td>\n",
       "      <td>26624-1</td>\n",
       "      <td>26624-1-4</td>\n",
       "      <td>Quarterback</td>\n",
       "      <td>1</td>\n",
       "      <td>1</td>\n",
       "      <td>Outdoor</td>\n",
       "      <td>Synthetic</td>\n",
       "      <td>63</td>\n",
       "      <td>Clear and warm</td>\n",
       "      <td>Rush</td>\n",
       "      <td>4</td>\n",
       "      <td>QB</td>\n",
       "      <td>QB</td>\n",
       "      <td>0</td>\n",
       "      <td>18</td>\n",
       "      <td>1</td>\n",
       "      <td>8</td>\n",
       "      <td>10</td>\n",
       "      <td>16</td>\n",
       "    </tr>\n",
       "    <tr>\n",
       "      <th>4</th>\n",
       "      <td>26624</td>\n",
       "      <td>26624-1</td>\n",
       "      <td>26624-1-5</td>\n",
       "      <td>Quarterback</td>\n",
       "      <td>1</td>\n",
       "      <td>1</td>\n",
       "      <td>Outdoor</td>\n",
       "      <td>Synthetic</td>\n",
       "      <td>63</td>\n",
       "      <td>Clear and warm</td>\n",
       "      <td>Pass</td>\n",
       "      <td>5</td>\n",
       "      <td>QB</td>\n",
       "      <td>QB</td>\n",
       "      <td>0</td>\n",
       "      <td>18</td>\n",
       "      <td>1</td>\n",
       "      <td>8</td>\n",
       "      <td>6</td>\n",
       "      <td>16</td>\n",
       "    </tr>\n",
       "  </tbody>\n",
       "</table>\n",
       "</div>"
      ],
      "text/plain": [
       "   PlayerKey   GameID    PlayKey RosterPosition  PlayerDay  PlayerGame  \\\n",
       "0      26624  26624-1  26624-1-1    Quarterback          1           1   \n",
       "1      26624  26624-1  26624-1-2    Quarterback          1           1   \n",
       "2      26624  26624-1  26624-1-3    Quarterback          1           1   \n",
       "3      26624  26624-1  26624-1-4    Quarterback          1           1   \n",
       "4      26624  26624-1  26624-1-5    Quarterback          1           1   \n",
       "\n",
       "  StadiumType  FieldType  Temperature         Weather PlayType  \\\n",
       "0     Outdoor  Synthetic           63  Clear and warm     Pass   \n",
       "1     Outdoor  Synthetic           63  Clear and warm     Pass   \n",
       "2     Outdoor  Synthetic           63  Clear and warm     Rush   \n",
       "3     Outdoor  Synthetic           63  Clear and warm     Rush   \n",
       "4     Outdoor  Synthetic           63  Clear and warm     Pass   \n",
       "\n",
       "   PlayerGamePlay Position PositionGroup  inj_ind  StadiumType_c  FieldType_c  \\\n",
       "0               1       QB            QB        0             18            1   \n",
       "1               2       QB            QB        0             18            1   \n",
       "2               3       QB            QB        0             18            1   \n",
       "3               4       QB            QB        0             18            1   \n",
       "4               5       QB            QB        0             18            1   \n",
       "\n",
       "   Weather_c  PlayType_c  Position_c  \n",
       "0          8           6          16  \n",
       "1          8           6          16  \n",
       "2          8          10          16  \n",
       "3          8          10          16  \n",
       "4          8           6          16  "
      ]
     },
     "execution_count": 40,
     "metadata": {},
     "output_type": "execute_result"
    }
   ],
   "source": [
    "playlist.head()"
   ]
  },
  {
   "cell_type": "code",
   "execution_count": 41,
   "metadata": {
    "execution": {
     "iopub.execute_input": "2022-07-31T13:20:57.772889Z",
     "iopub.status.busy": "2022-07-31T13:20:57.772394Z",
     "iopub.status.idle": "2022-07-31T13:20:59.971619Z",
     "shell.execute_reply": "2022-07-31T13:20:59.970624Z",
     "shell.execute_reply.started": "2022-07-31T13:20:57.772655Z"
    }
   },
   "outputs": [
    {
     "data": {
      "text/html": [
       "<div>\n",
       "<style scoped>\n",
       "    .dataframe tbody tr th:only-of-type {\n",
       "        vertical-align: middle;\n",
       "    }\n",
       "\n",
       "    .dataframe tbody tr th {\n",
       "        vertical-align: top;\n",
       "    }\n",
       "\n",
       "    .dataframe thead th {\n",
       "        text-align: right;\n",
       "    }\n",
       "</style>\n",
       "<table border=\"1\" class=\"dataframe\">\n",
       "  <tbody>\n",
       "    <tr>\n",
       "      <th>model</th>\n",
       "      <td>lifelines.CoxPHFitter</td>\n",
       "    </tr>\n",
       "    <tr>\n",
       "      <th>duration col</th>\n",
       "      <td>'PlayerDay'</td>\n",
       "    </tr>\n",
       "    <tr>\n",
       "      <th>event col</th>\n",
       "      <td>'Injury'</td>\n",
       "    </tr>\n",
       "    <tr>\n",
       "      <th>baseline estimation</th>\n",
       "      <td>breslow</td>\n",
       "    </tr>\n",
       "    <tr>\n",
       "      <th>number of observations</th>\n",
       "      <td>267006</td>\n",
       "    </tr>\n",
       "    <tr>\n",
       "      <th>number of events observed</th>\n",
       "      <td>77</td>\n",
       "    </tr>\n",
       "    <tr>\n",
       "      <th>partial log-likelihood</th>\n",
       "      <td>-911.47</td>\n",
       "    </tr>\n",
       "    <tr>\n",
       "      <th>time fit was run</th>\n",
       "      <td>2022-08-28 12:51:26 UTC</td>\n",
       "    </tr>\n",
       "  </tbody>\n",
       "</table>\n",
       "</div><table border=\"1\" class=\"dataframe\">\n",
       "  <thead>\n",
       "    <tr style=\"text-align: right;\">\n",
       "      <th style=\"min-width: 12px;\"></th>\n",
       "      <th style=\"min-width: 12px;\">coef</th>\n",
       "      <th style=\"min-width: 12px;\">exp(coef)</th>\n",
       "      <th style=\"min-width: 12px;\">se(coef)</th>\n",
       "      <th style=\"min-width: 12px;\">coef lower 95%</th>\n",
       "      <th style=\"min-width: 12px;\">coef upper 95%</th>\n",
       "      <th style=\"min-width: 12px;\">exp(coef) lower 95%</th>\n",
       "      <th style=\"min-width: 12px;\">exp(coef) upper 95%</th>\n",
       "      <th style=\"min-width: 12px;\">cmp to</th>\n",
       "      <th style=\"min-width: 12px;\">z</th>\n",
       "      <th style=\"min-width: 12px;\">p</th>\n",
       "      <th style=\"min-width: 12px;\">-log2(p)</th>\n",
       "    </tr>\n",
       "  </thead>\n",
       "  <tbody>\n",
       "    <tr>\n",
       "      <th>Multiplication</th>\n",
       "      <td>0.90</td>\n",
       "      <td>2.46</td>\n",
       "      <td>0.53</td>\n",
       "      <td>-0.13</td>\n",
       "      <td>1.94</td>\n",
       "      <td>0.87</td>\n",
       "      <td>6.93</td>\n",
       "      <td>0.00</td>\n",
       "      <td>1.70</td>\n",
       "      <td>0.09</td>\n",
       "      <td>3.50</td>\n",
       "    </tr>\n",
       "    <tr>\n",
       "      <th>FieldType</th>\n",
       "      <td>-0.49</td>\n",
       "      <td>0.61</td>\n",
       "      <td>0.25</td>\n",
       "      <td>-0.98</td>\n",
       "      <td>-0.00</td>\n",
       "      <td>0.37</td>\n",
       "      <td>1.00</td>\n",
       "      <td>0.00</td>\n",
       "      <td>-1.97</td>\n",
       "      <td>0.05</td>\n",
       "      <td>4.37</td>\n",
       "    </tr>\n",
       "    <tr>\n",
       "      <th>Temperature</th>\n",
       "      <td>0.00</td>\n",
       "      <td>1.00</td>\n",
       "      <td>0.00</td>\n",
       "      <td>-0.00</td>\n",
       "      <td>0.00</td>\n",
       "      <td>1.00</td>\n",
       "      <td>1.00</td>\n",
       "      <td>0.00</td>\n",
       "      <td>0.52</td>\n",
       "      <td>0.60</td>\n",
       "      <td>0.73</td>\n",
       "    </tr>\n",
       "    <tr>\n",
       "      <th>StadiumType</th>\n",
       "      <td>-0.05</td>\n",
       "      <td>0.95</td>\n",
       "      <td>0.26</td>\n",
       "      <td>-0.56</td>\n",
       "      <td>0.46</td>\n",
       "      <td>0.57</td>\n",
       "      <td>1.58</td>\n",
       "      <td>0.00</td>\n",
       "      <td>-0.20</td>\n",
       "      <td>0.84</td>\n",
       "      <td>0.25</td>\n",
       "    </tr>\n",
       "    <tr>\n",
       "      <th>PlayType_c</th>\n",
       "      <td>-0.01</td>\n",
       "      <td>0.99</td>\n",
       "      <td>0.05</td>\n",
       "      <td>-0.10</td>\n",
       "      <td>0.09</td>\n",
       "      <td>0.90</td>\n",
       "      <td>1.09</td>\n",
       "      <td>0.00</td>\n",
       "      <td>-0.19</td>\n",
       "      <td>0.85</td>\n",
       "      <td>0.23</td>\n",
       "    </tr>\n",
       "    <tr>\n",
       "      <th>Position_c</th>\n",
       "      <td>0.01</td>\n",
       "      <td>1.01</td>\n",
       "      <td>0.01</td>\n",
       "      <td>-0.01</td>\n",
       "      <td>0.04</td>\n",
       "      <td>0.99</td>\n",
       "      <td>1.04</td>\n",
       "      <td>0.00</td>\n",
       "      <td>1.01</td>\n",
       "      <td>0.31</td>\n",
       "      <td>1.67</td>\n",
       "    </tr>\n",
       "  </tbody>\n",
       "</table><br><div>\n",
       "<style scoped>\n",
       "    .dataframe tbody tr th:only-of-type {\n",
       "        vertical-align: middle;\n",
       "    }\n",
       "\n",
       "    .dataframe tbody tr th {\n",
       "        vertical-align: top;\n",
       "    }\n",
       "\n",
       "    .dataframe thead th {\n",
       "        text-align: right;\n",
       "    }\n",
       "</style>\n",
       "<table border=\"1\" class=\"dataframe\">\n",
       "  <tbody>\n",
       "    <tr>\n",
       "      <th>Concordance</th>\n",
       "      <td>0.58</td>\n",
       "    </tr>\n",
       "    <tr>\n",
       "      <th>Partial AIC</th>\n",
       "      <td>1834.94</td>\n",
       "    </tr>\n",
       "    <tr>\n",
       "      <th>log-likelihood ratio test</th>\n",
       "      <td>7.62 on 6 df</td>\n",
       "    </tr>\n",
       "    <tr>\n",
       "      <th>-log2(p) of ll-ratio test</th>\n",
       "      <td>1.90</td>\n",
       "    </tr>\n",
       "  </tbody>\n",
       "</table>\n",
       "</div>"
      ],
      "text/latex": [
       "\\begin{tabular}{lrrrrrrrrrrr}\n",
       "\\toprule\n",
       "{} &  coef &  exp(coef) &  se(coef) &  coef lower 95\\% &  coef upper 95\\% &  exp(coef) lower 95\\% &  exp(coef) upper 95\\% &  cmp to &     z &    p &  -log2(p) \\\\\n",
       "covariate      &       &            &           &                 &                 &                      &                      &         &       &      &           \\\\\n",
       "\\midrule\n",
       "Multiplication &  0.90 &       2.46 &      0.53 &           -0.13 &            1.94 &                 0.87 &                 6.93 &    0.00 &  1.70 & 0.09 &      3.50 \\\\\n",
       "FieldType      & -0.49 &       0.61 &      0.25 &           -0.98 &           -0.00 &                 0.37 &                 1.00 &    0.00 & -1.97 & 0.05 &      4.37 \\\\\n",
       "Temperature    &  0.00 &       1.00 &      0.00 &           -0.00 &            0.00 &                 1.00 &                 1.00 &    0.00 &  0.52 & 0.60 &      0.73 \\\\\n",
       "StadiumType    & -0.05 &       0.95 &      0.26 &           -0.56 &            0.46 &                 0.57 &                 1.58 &    0.00 & -0.20 & 0.84 &      0.25 \\\\\n",
       "PlayType\\_c     & -0.01 &       0.99 &      0.05 &           -0.10 &            0.09 &                 0.90 &                 1.09 &    0.00 & -0.19 & 0.85 &      0.23 \\\\\n",
       "Position\\_c     &  0.01 &       1.01 &      0.01 &           -0.01 &            0.04 &                 0.99 &                 1.04 &    0.00 &  1.01 & 0.31 &      1.67 \\\\\n",
       "\\bottomrule\n",
       "\\end{tabular}\n"
      ],
      "text/plain": [
       "<lifelines.CoxPHFitter: fitted with 267006 total observations, 266929 right-censored observations>\n",
       "             duration col = 'PlayerDay'\n",
       "                event col = 'Injury'\n",
       "      baseline estimation = breslow\n",
       "   number of observations = 267006\n",
       "number of events observed = 77\n",
       "   partial log-likelihood = -911.47\n",
       "         time fit was run = 2022-08-28 12:51:26 UTC\n",
       "\n",
       "---\n",
       "                 coef  exp(coef)   se(coef)   coef lower 95%   coef upper 95%  exp(coef) lower 95%  exp(coef) upper 95%\n",
       "covariate                                                                                                              \n",
       "Multiplication   0.90       2.46       0.53            -0.13             1.94                 0.87                 6.93\n",
       "FieldType       -0.49       0.61       0.25            -0.98            -0.00                 0.37                 1.00\n",
       "Temperature      0.00       1.00       0.00            -0.00             0.00                 1.00                 1.00\n",
       "StadiumType     -0.05       0.95       0.26            -0.56             0.46                 0.57                 1.58\n",
       "PlayType_c      -0.01       0.99       0.05            -0.10             0.09                 0.90                 1.09\n",
       "Position_c       0.01       1.01       0.01            -0.01             0.04                 0.99                 1.04\n",
       "\n",
       "                 cmp to     z    p   -log2(p)\n",
       "covariate                                    \n",
       "Multiplication     0.00  1.70 0.09       3.50\n",
       "FieldType          0.00 -1.97 0.05       4.37\n",
       "Temperature        0.00  0.52 0.60       0.73\n",
       "StadiumType        0.00 -0.20 0.84       0.25\n",
       "PlayType_c         0.00 -0.19 0.85       0.23\n",
       "Position_c         0.00  1.01 0.31       1.67\n",
       "---\n",
       "Concordance = 0.58\n",
       "Partial AIC = 1834.94\n",
       "log-likelihood ratio test = 7.62 on 6 df\n",
       "-log2(p) of ll-ratio test = 1.90"
      ]
     },
     "metadata": {},
     "output_type": "display_data"
    }
   ],
   "source": [
    "# Using Cox Proportional Hazards model\n",
    "#features = ['FieldType_c', 'Temperature', 'StadiumType_c', 'PlayerGame', 'Weather_c', 'PlayType_c', 'Position_c', 'PlayerDay', 'inj_ind']\n",
    "features = ['Injury','Multiplication', 'FieldType', 'Temperature', 'StadiumType', 'PlayerDay','PlayType_c','Position_c' ]\n",
    "X = m_inju_play_agg[features]\n",
    "cph = CoxPHFitter()   ## Instantiate the class to create a cph object\n",
    "#cph.fit(X_train, 'PlayerDay', event_col='inj_ind')   ## Fit the data to train the model\n",
    "cph.fit(X, 'PlayerDay', event_col='Injury')\n",
    "cph.print_summary() "
   ]
  },
  {
   "cell_type": "markdown",
   "metadata": {},
   "source": [
    "# Logistic Regression"
   ]
  },
  {
   "cell_type": "code",
   "execution_count": 42,
   "metadata": {
    "execution": {
     "iopub.execute_input": "2022-07-31T13:21:03.673129Z",
     "iopub.status.busy": "2022-07-31T13:21:03.672805Z",
     "iopub.status.idle": "2022-07-31T13:21:05.888925Z",
     "shell.execute_reply": "2022-07-31T13:21:05.887503Z",
     "shell.execute_reply.started": "2022-07-31T13:21:03.673078Z"
    }
   },
   "outputs": [
    {
     "data": {
      "text/plain": [
       "0.999800254675289"
      ]
     },
     "execution_count": 42,
     "metadata": {},
     "output_type": "execute_result"
    }
   ],
   "source": [
    "from sklearn.linear_model import LogisticRegression\n",
    "from sklearn.model_selection import train_test_split\n",
    "\n",
    "features = ['Multiplication', 'FieldType', 'Temperature', 'StadiumType', 'PlayerDay','PlayType_c','Position_c' ]\n",
    "X = m_inju_play_agg[features]\n",
    "y = m_inju_play_agg['Injury']\n",
    "X_train, X_test, y_train, y_test = train_test_split(X, y, test_size=0.15, random_state=42)\n",
    "\n",
    "clf = LogisticRegression(random_state=0).fit(X_train, y_train)\n",
    "y_pred_log = clf.predict(X_test)\n",
    "clf.score(X_test, y_test)"
   ]
  },
  {
   "cell_type": "code",
   "execution_count": 43,
   "metadata": {
    "execution": {
     "iopub.execute_input": "2022-07-31T13:21:08.637706Z",
     "iopub.status.busy": "2022-07-31T13:21:08.637388Z",
     "iopub.status.idle": "2022-07-31T13:21:08.643930Z",
     "shell.execute_reply": "2022-07-31T13:21:08.643191Z",
     "shell.execute_reply.started": "2022-07-31T13:21:08.637650Z"
    }
   },
   "outputs": [
    {
     "data": {
      "text/plain": [
       "array([[ 4.28631060e-01, -4.96868870e-01,  4.54394001e-04,\n",
       "         1.82748789e-02, -2.21008008e-03, -6.45190459e-03,\n",
       "         8.82382818e-03]])"
      ]
     },
     "execution_count": 43,
     "metadata": {},
     "output_type": "execute_result"
    }
   ],
   "source": [
    "clf.coef_"
   ]
  },
  {
   "cell_type": "code",
   "execution_count": 44,
   "metadata": {
    "execution": {
     "iopub.execute_input": "2022-07-31T13:21:10.323855Z",
     "iopub.status.busy": "2022-07-31T13:21:10.323293Z",
     "iopub.status.idle": "2022-07-31T13:21:10.592581Z",
     "shell.execute_reply": "2022-07-31T13:21:10.591710Z",
     "shell.execute_reply.started": "2022-07-31T13:21:10.323807Z"
    }
   },
   "outputs": [
    {
     "data": {
      "text/plain": [
       "Text(0.5, 257.44, 'Predicted label')"
      ]
     },
     "execution_count": 44,
     "metadata": {},
     "output_type": "execute_result"
    },
    {
     "data": {
      "image/png": "[encoded data removed]",
      "text/plain": [
       "<Figure size 432x288 with 2 Axes>"
      ]
     },
     "metadata": {
      "needs_background": "light"
     },
     "output_type": "display_data"
    }
   ],
   "source": [
    "from sklearn import metrics\n",
    "cnf_matrix = metrics.confusion_matrix(y_test, y_pred_log)\n",
    "#cnf_matrix\n",
    "\n",
    "class_names=[0,1] # name  of classes\n",
    "fig, ax = plt.subplots()\n",
    "tick_marks = np.arange(len(class_names))\n",
    "plt.xticks(tick_marks, class_names)\n",
    "plt.yticks(tick_marks, class_names)\n",
    "# create heatmap\n",
    "sns.heatmap(pd.DataFrame(cnf_matrix), annot=True, cmap=\"YlGnBu\" ,fmt='g')\n",
    "ax.xaxis.set_label_position(\"top\")\n",
    "plt.tight_layout()\n",
    "plt.title('Confusion matrix', y=1.1)\n",
    "plt.ylabel('Actual label')\n",
    "plt.xlabel('Predicted label')"
   ]
  },
  {
   "cell_type": "markdown",
   "metadata": {},
   "source": [
    "# Random Forest"
   ]
  },
  {
   "cell_type": "code",
   "execution_count": 45,
   "metadata": {
    "execution": {
     "iopub.execute_input": "2022-07-31T13:22:28.127749Z",
     "iopub.status.busy": "2022-07-31T13:22:28.127447Z",
     "iopub.status.idle": "2022-07-31T13:22:28.228879Z",
     "shell.execute_reply": "2022-07-31T13:22:28.228040Z",
     "shell.execute_reply.started": "2022-07-31T13:22:28.127710Z"
    }
   },
   "outputs": [],
   "source": [
    "from sklearn.ensemble import RandomForestClassifier"
   ]
  },
  {
   "cell_type": "code",
   "execution_count": 46,
   "metadata": {
    "execution": {
     "iopub.execute_input": "2022-07-31T13:22:39.389079Z",
     "iopub.status.busy": "2022-07-31T13:22:39.388537Z",
     "iopub.status.idle": "2022-07-31T13:22:48.869641Z",
     "shell.execute_reply": "2022-07-31T13:22:48.868841Z",
     "shell.execute_reply.started": "2022-07-31T13:22:39.389012Z"
    }
   },
   "outputs": [
    {
     "data": {
      "text/plain": [
       "0.999800254675289"
      ]
     },
     "execution_count": 46,
     "metadata": {},
     "output_type": "execute_result"
    }
   ],
   "source": [
    "features = ['Multiplication', 'FieldType', 'Temperature', 'StadiumType', 'PlayerDay','PlayType_c','Position_c' ]\n",
    "X = m_inju_play_agg[features]\n",
    "y = m_inju_play_agg['Injury']\n",
    "X_train, X_test, y_train, y_test = train_test_split(X, y, test_size=0.15, random_state=42)\n",
    "\n",
    "clf = RandomForestClassifier(random_state=0, n_estimators=100).fit(X_train, y_train)\n",
    "y_pred_rf = clf.predict(X_test)\n",
    "clf.score(X_test, y_test)"
   ]
  },
  {
   "cell_type": "code",
   "execution_count": 47,
   "metadata": {
    "execution": {
     "iopub.execute_input": "2022-07-31T13:23:27.531479Z",
     "iopub.status.busy": "2022-07-31T13:23:27.531132Z",
     "iopub.status.idle": "2022-07-31T13:23:27.921674Z",
     "shell.execute_reply": "2022-07-31T13:23:27.920608Z",
     "shell.execute_reply.started": "2022-07-31T13:23:27.531416Z"
    }
   },
   "outputs": [
    {
     "data": {
      "text/plain": [
       "Text(0.5, 257.44, 'Predicted label')"
      ]
     },
     "execution_count": 47,
     "metadata": {},
     "output_type": "execute_result"
    },
    {
     "data": {
      "image/png": "[encoded data removed]",
      "text/plain": [
       "<Figure size 432x288 with 2 Axes>"
      ]
     },
     "metadata": {
      "needs_background": "light"
     },
     "output_type": "display_data"
    }
   ],
   "source": [
    "cnf_matrix = metrics.confusion_matrix(y_test, y_pred_rf)\n",
    "fig, ax = plt.subplots()\n",
    "tick_marks = np.arange(len(class_names))\n",
    "plt.xticks(tick_marks, class_names)\n",
    "plt.yticks(tick_marks, class_names)\n",
    "# create heatmap\n",
    "sns.heatmap(pd.DataFrame(cnf_matrix), annot=True, cmap=\"YlGnBu\" ,fmt='g')\n",
    "ax.xaxis.set_label_position(\"top\")\n",
    "plt.tight_layout()\n",
    "plt.title('Confusion matrix', y=1.1)\n",
    "plt.ylabel('Actual label')\n",
    "plt.xlabel('Predicted label')"
   ]
  },
  {
   "cell_type": "code",
   "execution_count": 48,
   "metadata": {
    "execution": {
     "iopub.execute_input": "2022-07-31T13:23:50.755401Z",
     "iopub.status.busy": "2022-07-31T13:23:50.754794Z",
     "iopub.status.idle": "2022-07-31T13:23:50.767271Z",
     "shell.execute_reply": "2022-07-31T13:23:50.766289Z",
     "shell.execute_reply.started": "2022-07-31T13:23:50.755350Z"
    }
   },
   "outputs": [],
   "source": [
    "importances = clf.feature_importances_"
   ]
  },
  {
   "cell_type": "code",
   "execution_count": 49,
   "metadata": {
    "execution": {
     "iopub.execute_input": "2022-07-31T13:25:28.255213Z",
     "iopub.status.busy": "2022-07-31T13:25:28.254896Z",
     "iopub.status.idle": "2022-07-31T13:25:28.683257Z",
     "shell.execute_reply": "2022-07-31T13:25:28.682269Z",
     "shell.execute_reply.started": "2022-07-31T13:25:28.255154Z"
    }
   },
   "outputs": [
    {
     "data": {
      "image/png": "[encoded data removed]",
      "text/plain": [
       "<Figure size 432x288 with 1 Axes>"
      ]
     },
     "metadata": {
      "needs_background": "light"
     },
     "output_type": "display_data"
    }
   ],
   "source": [
    "forest_importances = pd.Series(importances, index=features)\n",
    "std = np.std([tree.feature_importances_ for tree in clf.estimators_], axis=0)\n",
    "\n",
    "fig, ax = plt.subplots()\n",
    "forest_importances.plot.bar(yerr=std, ax=ax)\n",
    "ax.set_title(\"Feature importances using MDI\")\n",
    "ax.set_ylabel(\"Mean decrease in impurity\")\n",
    "fig.tight_layout()"
   ]
  },
  {
   "cell_type": "markdown",
   "metadata": {},
   "source": [
    "The most impactful variable in this subset seems to be 'PlayerDay' which seems to be the particular time of season. "
   ]
  }
 ],
 "metadata": {
  "kernelspec": {
   "display_name": "Python 3",
   "language": "python",
   "name": "python3"
  },
  "language_info": {
   "codemirror_mode": {
    "name": "ipython",
    "version": 3
   },
   "file_extension": ".py",
   "mimetype": "text/x-python",
   "name": "python",
   "nbconvert_exporter": "python",
   "pygments_lexer": "ipython3",
   "version": "3.8.3"
  },
  "toc": {
   "base_numbering": 1,
   "nav_menu": {},
   "number_sections": true,
   "sideBar": true,
   "skip_h1_title": false,
   "title_cell": "Table of Contents",
   "title_sidebar": "Contents",
   "toc_cell": true,
   "toc_position": {},
   "toc_section_display": true,
   "toc_window_display": true
  }
 },
 "nbformat": 4,
 "nbformat_minor": 4
}
